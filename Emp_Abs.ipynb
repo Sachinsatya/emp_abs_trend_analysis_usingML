{
  "nbformat": 4,
  "nbformat_minor": 0,
  "metadata": {
    "colab": {
      "provenance": [],
      "authorship_tag": "ABX9TyNWT2dv4jXAddFcwP24qitY",
      "include_colab_link": true
    },
    "kernelspec": {
      "name": "python3",
      "display_name": "Python 3"
    },
    "language_info": {
      "name": "python"
    }
  },
  "cells": [
    {
      "cell_type": "markdown",
      "metadata": {
        "id": "view-in-github",
        "colab_type": "text"
      },
      "source": [
        "<a href=\"https://colab.research.google.com/github/Sachinsatya/emp_abs_trend_analysis_usingML/blob/main/Emp_Abs.ipynb\" target=\"_parent\"><img src=\"https://colab.research.google.com/assets/colab-badge.svg\" alt=\"Open In Colab\"/></a>"
      ]
    },
    {
      "cell_type": "code",
      "execution_count": null,
      "metadata": {
        "id": "QFfL0KMzB-5m"
      },
      "outputs": [],
      "source": [
        "#Import libraries\n",
        "import os\n",
        "import pandas as pd\n",
        "import numpy as np\n",
        "from sklearn.metrics import r2_score\n",
        "from fancyimpute import KNN\n",
        "from sklearn.metrics import mean_squared_error\n",
        "\n",
        "#import libraries for plots\n",
        "import matplotlib.pyplot as plt\n",
        "import seaborn as sns\n",
        "%matplotlib inline"
      ]
    },
    {
      "cell_type": "code",
      "source": [
        "#os.chdir(\"C:\\Users\\Sachin MM\\OneDrive\\Documents\\Project\")\n",
        "\n",
        "# Loading data\n",
        "emp_absent = pd.read_excel(\"Absenteeism_at_work.xls\")"
      ],
      "metadata": {
        "id": "UYjnScY8C83P"
      },
      "execution_count": null,
      "outputs": []
    },
    {
      "cell_type": "code",
      "source": [
        "emp_absent"
      ],
      "metadata": {
        "colab": {
          "base_uri": "https://localhost:8080/",
          "height": 540
        },
        "id": "6AmAC3mdCS_r",
        "outputId": "a5959f6b-700f-4c21-d486-434f203a7449"
      },
      "execution_count": null,
      "outputs": [
        {
          "output_type": "execute_result",
          "data": {
            "text/plain": [
              "     ID  Reason for absence  Month of absence  Day of the week  Seasons  \\\n",
              "0    11                26.0               7.0                3        1   \n",
              "1    36                 0.0               7.0                3        1   \n",
              "2     3                23.0               7.0                4        1   \n",
              "3     7                 7.0               7.0                5        1   \n",
              "4    11                23.0               7.0                5        1   \n",
              "..   ..                 ...               ...              ...      ...   \n",
              "735  11                14.0               7.0                3        1   \n",
              "736   1                11.0               7.0                3        1   \n",
              "737   4                 0.0               0.0                3        1   \n",
              "738   8                 0.0               0.0                4        2   \n",
              "739  35                 0.0               0.0                6        3   \n",
              "\n",
              "     Transportation expense  Distance from Residence to Work  Service time  \\\n",
              "0                     289.0                             36.0          13.0   \n",
              "1                     118.0                             13.0          18.0   \n",
              "2                     179.0                             51.0          18.0   \n",
              "3                     279.0                              5.0          14.0   \n",
              "4                     289.0                             36.0          13.0   \n",
              "..                      ...                              ...           ...   \n",
              "735                   289.0                             36.0          13.0   \n",
              "736                   235.0                             11.0          14.0   \n",
              "737                   118.0                             14.0          13.0   \n",
              "738                   231.0                             35.0          14.0   \n",
              "739                   179.0                             45.0          14.0   \n",
              "\n",
              "      Age  Work load Average/day   ...  Disciplinary failure  Education  Son  \\\n",
              "0    33.0                239554.0  ...                   0.0        1.0  2.0   \n",
              "1    50.0                239554.0  ...                   1.0        1.0  1.0   \n",
              "2    38.0                239554.0  ...                   0.0        1.0  0.0   \n",
              "3    39.0                239554.0  ...                   0.0        1.0  2.0   \n",
              "4    33.0                239554.0  ...                   0.0        1.0  2.0   \n",
              "..    ...                     ...  ...                   ...        ...  ...   \n",
              "735  33.0                264604.0  ...                   0.0        1.0  2.0   \n",
              "736  37.0                264604.0  ...                   0.0        3.0  1.0   \n",
              "737  40.0                271219.0  ...                   0.0        1.0  1.0   \n",
              "738  39.0                271219.0  ...                   0.0        1.0  2.0   \n",
              "739  53.0                271219.0  ...                   0.0        1.0  1.0   \n",
              "\n",
              "     Social drinker  Social smoker  Pet  Weight  Height  Body mass index  \\\n",
              "0               1.0            0.0  1.0    90.0   172.0             30.0   \n",
              "1               1.0            0.0  0.0    98.0   178.0             31.0   \n",
              "2               1.0            0.0  0.0    89.0   170.0             31.0   \n",
              "3               1.0            1.0  0.0    68.0   168.0             24.0   \n",
              "4               1.0            0.0  1.0    90.0   172.0             30.0   \n",
              "..              ...            ...  ...     ...     ...              ...   \n",
              "735             1.0            0.0  1.0    90.0   172.0             30.0   \n",
              "736             0.0            0.0  1.0    88.0   172.0             29.0   \n",
              "737             1.0            0.0  8.0    98.0   170.0             34.0   \n",
              "738             1.0            0.0  2.0   100.0   170.0             35.0   \n",
              "739             0.0            0.0  1.0    77.0   175.0             25.0   \n",
              "\n",
              "     Absenteeism time in hours  \n",
              "0                          4.0  \n",
              "1                          0.0  \n",
              "2                          2.0  \n",
              "3                          4.0  \n",
              "4                          2.0  \n",
              "..                         ...  \n",
              "735                        8.0  \n",
              "736                        4.0  \n",
              "737                        0.0  \n",
              "738                        0.0  \n",
              "739                        0.0  \n",
              "\n",
              "[740 rows x 21 columns]"
            ],
            "text/html": [
              "\n",
              "  <div id=\"df-c17e8fed-534d-430f-a3fe-dd584996b3f1\">\n",
              "    <div class=\"colab-df-container\">\n",
              "      <div>\n",
              "<style scoped>\n",
              "    .dataframe tbody tr th:only-of-type {\n",
              "        vertical-align: middle;\n",
              "    }\n",
              "\n",
              "    .dataframe tbody tr th {\n",
              "        vertical-align: top;\n",
              "    }\n",
              "\n",
              "    .dataframe thead th {\n",
              "        text-align: right;\n",
              "    }\n",
              "</style>\n",
              "<table border=\"1\" class=\"dataframe\">\n",
              "  <thead>\n",
              "    <tr style=\"text-align: right;\">\n",
              "      <th></th>\n",
              "      <th>ID</th>\n",
              "      <th>Reason for absence</th>\n",
              "      <th>Month of absence</th>\n",
              "      <th>Day of the week</th>\n",
              "      <th>Seasons</th>\n",
              "      <th>Transportation expense</th>\n",
              "      <th>Distance from Residence to Work</th>\n",
              "      <th>Service time</th>\n",
              "      <th>Age</th>\n",
              "      <th>Work load Average/day</th>\n",
              "      <th>...</th>\n",
              "      <th>Disciplinary failure</th>\n",
              "      <th>Education</th>\n",
              "      <th>Son</th>\n",
              "      <th>Social drinker</th>\n",
              "      <th>Social smoker</th>\n",
              "      <th>Pet</th>\n",
              "      <th>Weight</th>\n",
              "      <th>Height</th>\n",
              "      <th>Body mass index</th>\n",
              "      <th>Absenteeism time in hours</th>\n",
              "    </tr>\n",
              "  </thead>\n",
              "  <tbody>\n",
              "    <tr>\n",
              "      <th>0</th>\n",
              "      <td>11</td>\n",
              "      <td>26.0</td>\n",
              "      <td>7.0</td>\n",
              "      <td>3</td>\n",
              "      <td>1</td>\n",
              "      <td>289.0</td>\n",
              "      <td>36.0</td>\n",
              "      <td>13.0</td>\n",
              "      <td>33.0</td>\n",
              "      <td>239554.0</td>\n",
              "      <td>...</td>\n",
              "      <td>0.0</td>\n",
              "      <td>1.0</td>\n",
              "      <td>2.0</td>\n",
              "      <td>1.0</td>\n",
              "      <td>0.0</td>\n",
              "      <td>1.0</td>\n",
              "      <td>90.0</td>\n",
              "      <td>172.0</td>\n",
              "      <td>30.0</td>\n",
              "      <td>4.0</td>\n",
              "    </tr>\n",
              "    <tr>\n",
              "      <th>1</th>\n",
              "      <td>36</td>\n",
              "      <td>0.0</td>\n",
              "      <td>7.0</td>\n",
              "      <td>3</td>\n",
              "      <td>1</td>\n",
              "      <td>118.0</td>\n",
              "      <td>13.0</td>\n",
              "      <td>18.0</td>\n",
              "      <td>50.0</td>\n",
              "      <td>239554.0</td>\n",
              "      <td>...</td>\n",
              "      <td>1.0</td>\n",
              "      <td>1.0</td>\n",
              "      <td>1.0</td>\n",
              "      <td>1.0</td>\n",
              "      <td>0.0</td>\n",
              "      <td>0.0</td>\n",
              "      <td>98.0</td>\n",
              "      <td>178.0</td>\n",
              "      <td>31.0</td>\n",
              "      <td>0.0</td>\n",
              "    </tr>\n",
              "    <tr>\n",
              "      <th>2</th>\n",
              "      <td>3</td>\n",
              "      <td>23.0</td>\n",
              "      <td>7.0</td>\n",
              "      <td>4</td>\n",
              "      <td>1</td>\n",
              "      <td>179.0</td>\n",
              "      <td>51.0</td>\n",
              "      <td>18.0</td>\n",
              "      <td>38.0</td>\n",
              "      <td>239554.0</td>\n",
              "      <td>...</td>\n",
              "      <td>0.0</td>\n",
              "      <td>1.0</td>\n",
              "      <td>0.0</td>\n",
              "      <td>1.0</td>\n",
              "      <td>0.0</td>\n",
              "      <td>0.0</td>\n",
              "      <td>89.0</td>\n",
              "      <td>170.0</td>\n",
              "      <td>31.0</td>\n",
              "      <td>2.0</td>\n",
              "    </tr>\n",
              "    <tr>\n",
              "      <th>3</th>\n",
              "      <td>7</td>\n",
              "      <td>7.0</td>\n",
              "      <td>7.0</td>\n",
              "      <td>5</td>\n",
              "      <td>1</td>\n",
              "      <td>279.0</td>\n",
              "      <td>5.0</td>\n",
              "      <td>14.0</td>\n",
              "      <td>39.0</td>\n",
              "      <td>239554.0</td>\n",
              "      <td>...</td>\n",
              "      <td>0.0</td>\n",
              "      <td>1.0</td>\n",
              "      <td>2.0</td>\n",
              "      <td>1.0</td>\n",
              "      <td>1.0</td>\n",
              "      <td>0.0</td>\n",
              "      <td>68.0</td>\n",
              "      <td>168.0</td>\n",
              "      <td>24.0</td>\n",
              "      <td>4.0</td>\n",
              "    </tr>\n",
              "    <tr>\n",
              "      <th>4</th>\n",
              "      <td>11</td>\n",
              "      <td>23.0</td>\n",
              "      <td>7.0</td>\n",
              "      <td>5</td>\n",
              "      <td>1</td>\n",
              "      <td>289.0</td>\n",
              "      <td>36.0</td>\n",
              "      <td>13.0</td>\n",
              "      <td>33.0</td>\n",
              "      <td>239554.0</td>\n",
              "      <td>...</td>\n",
              "      <td>0.0</td>\n",
              "      <td>1.0</td>\n",
              "      <td>2.0</td>\n",
              "      <td>1.0</td>\n",
              "      <td>0.0</td>\n",
              "      <td>1.0</td>\n",
              "      <td>90.0</td>\n",
              "      <td>172.0</td>\n",
              "      <td>30.0</td>\n",
              "      <td>2.0</td>\n",
              "    </tr>\n",
              "    <tr>\n",
              "      <th>...</th>\n",
              "      <td>...</td>\n",
              "      <td>...</td>\n",
              "      <td>...</td>\n",
              "      <td>...</td>\n",
              "      <td>...</td>\n",
              "      <td>...</td>\n",
              "      <td>...</td>\n",
              "      <td>...</td>\n",
              "      <td>...</td>\n",
              "      <td>...</td>\n",
              "      <td>...</td>\n",
              "      <td>...</td>\n",
              "      <td>...</td>\n",
              "      <td>...</td>\n",
              "      <td>...</td>\n",
              "      <td>...</td>\n",
              "      <td>...</td>\n",
              "      <td>...</td>\n",
              "      <td>...</td>\n",
              "      <td>...</td>\n",
              "      <td>...</td>\n",
              "    </tr>\n",
              "    <tr>\n",
              "      <th>735</th>\n",
              "      <td>11</td>\n",
              "      <td>14.0</td>\n",
              "      <td>7.0</td>\n",
              "      <td>3</td>\n",
              "      <td>1</td>\n",
              "      <td>289.0</td>\n",
              "      <td>36.0</td>\n",
              "      <td>13.0</td>\n",
              "      <td>33.0</td>\n",
              "      <td>264604.0</td>\n",
              "      <td>...</td>\n",
              "      <td>0.0</td>\n",
              "      <td>1.0</td>\n",
              "      <td>2.0</td>\n",
              "      <td>1.0</td>\n",
              "      <td>0.0</td>\n",
              "      <td>1.0</td>\n",
              "      <td>90.0</td>\n",
              "      <td>172.0</td>\n",
              "      <td>30.0</td>\n",
              "      <td>8.0</td>\n",
              "    </tr>\n",
              "    <tr>\n",
              "      <th>736</th>\n",
              "      <td>1</td>\n",
              "      <td>11.0</td>\n",
              "      <td>7.0</td>\n",
              "      <td>3</td>\n",
              "      <td>1</td>\n",
              "      <td>235.0</td>\n",
              "      <td>11.0</td>\n",
              "      <td>14.0</td>\n",
              "      <td>37.0</td>\n",
              "      <td>264604.0</td>\n",
              "      <td>...</td>\n",
              "      <td>0.0</td>\n",
              "      <td>3.0</td>\n",
              "      <td>1.0</td>\n",
              "      <td>0.0</td>\n",
              "      <td>0.0</td>\n",
              "      <td>1.0</td>\n",
              "      <td>88.0</td>\n",
              "      <td>172.0</td>\n",
              "      <td>29.0</td>\n",
              "      <td>4.0</td>\n",
              "    </tr>\n",
              "    <tr>\n",
              "      <th>737</th>\n",
              "      <td>4</td>\n",
              "      <td>0.0</td>\n",
              "      <td>0.0</td>\n",
              "      <td>3</td>\n",
              "      <td>1</td>\n",
              "      <td>118.0</td>\n",
              "      <td>14.0</td>\n",
              "      <td>13.0</td>\n",
              "      <td>40.0</td>\n",
              "      <td>271219.0</td>\n",
              "      <td>...</td>\n",
              "      <td>0.0</td>\n",
              "      <td>1.0</td>\n",
              "      <td>1.0</td>\n",
              "      <td>1.0</td>\n",
              "      <td>0.0</td>\n",
              "      <td>8.0</td>\n",
              "      <td>98.0</td>\n",
              "      <td>170.0</td>\n",
              "      <td>34.0</td>\n",
              "      <td>0.0</td>\n",
              "    </tr>\n",
              "    <tr>\n",
              "      <th>738</th>\n",
              "      <td>8</td>\n",
              "      <td>0.0</td>\n",
              "      <td>0.0</td>\n",
              "      <td>4</td>\n",
              "      <td>2</td>\n",
              "      <td>231.0</td>\n",
              "      <td>35.0</td>\n",
              "      <td>14.0</td>\n",
              "      <td>39.0</td>\n",
              "      <td>271219.0</td>\n",
              "      <td>...</td>\n",
              "      <td>0.0</td>\n",
              "      <td>1.0</td>\n",
              "      <td>2.0</td>\n",
              "      <td>1.0</td>\n",
              "      <td>0.0</td>\n",
              "      <td>2.0</td>\n",
              "      <td>100.0</td>\n",
              "      <td>170.0</td>\n",
              "      <td>35.0</td>\n",
              "      <td>0.0</td>\n",
              "    </tr>\n",
              "    <tr>\n",
              "      <th>739</th>\n",
              "      <td>35</td>\n",
              "      <td>0.0</td>\n",
              "      <td>0.0</td>\n",
              "      <td>6</td>\n",
              "      <td>3</td>\n",
              "      <td>179.0</td>\n",
              "      <td>45.0</td>\n",
              "      <td>14.0</td>\n",
              "      <td>53.0</td>\n",
              "      <td>271219.0</td>\n",
              "      <td>...</td>\n",
              "      <td>0.0</td>\n",
              "      <td>1.0</td>\n",
              "      <td>1.0</td>\n",
              "      <td>0.0</td>\n",
              "      <td>0.0</td>\n",
              "      <td>1.0</td>\n",
              "      <td>77.0</td>\n",
              "      <td>175.0</td>\n",
              "      <td>25.0</td>\n",
              "      <td>0.0</td>\n",
              "    </tr>\n",
              "  </tbody>\n",
              "</table>\n",
              "<p>740 rows × 21 columns</p>\n",
              "</div>\n",
              "      <button class=\"colab-df-convert\" onclick=\"convertToInteractive('df-c17e8fed-534d-430f-a3fe-dd584996b3f1')\"\n",
              "              title=\"Convert this dataframe to an interactive table.\"\n",
              "              style=\"display:none;\">\n",
              "        \n",
              "  <svg xmlns=\"http://www.w3.org/2000/svg\" height=\"24px\"viewBox=\"0 0 24 24\"\n",
              "       width=\"24px\">\n",
              "    <path d=\"M0 0h24v24H0V0z\" fill=\"none\"/>\n",
              "    <path d=\"M18.56 5.44l.94 2.06.94-2.06 2.06-.94-2.06-.94-.94-2.06-.94 2.06-2.06.94zm-11 1L8.5 8.5l.94-2.06 2.06-.94-2.06-.94L8.5 2.5l-.94 2.06-2.06.94zm10 10l.94 2.06.94-2.06 2.06-.94-2.06-.94-.94-2.06-.94 2.06-2.06.94z\"/><path d=\"M17.41 7.96l-1.37-1.37c-.4-.4-.92-.59-1.43-.59-.52 0-1.04.2-1.43.59L10.3 9.45l-7.72 7.72c-.78.78-.78 2.05 0 2.83L4 21.41c.39.39.9.59 1.41.59.51 0 1.02-.2 1.41-.59l7.78-7.78 2.81-2.81c.8-.78.8-2.07 0-2.86zM5.41 20L4 18.59l7.72-7.72 1.47 1.35L5.41 20z\"/>\n",
              "  </svg>\n",
              "      </button>\n",
              "      \n",
              "  <style>\n",
              "    .colab-df-container {\n",
              "      display:flex;\n",
              "      flex-wrap:wrap;\n",
              "      gap: 12px;\n",
              "    }\n",
              "\n",
              "    .colab-df-convert {\n",
              "      background-color: #E8F0FE;\n",
              "      border: none;\n",
              "      border-radius: 50%;\n",
              "      cursor: pointer;\n",
              "      display: none;\n",
              "      fill: #1967D2;\n",
              "      height: 32px;\n",
              "      padding: 0 0 0 0;\n",
              "      width: 32px;\n",
              "    }\n",
              "\n",
              "    .colab-df-convert:hover {\n",
              "      background-color: #E2EBFA;\n",
              "      box-shadow: 0px 1px 2px rgba(60, 64, 67, 0.3), 0px 1px 3px 1px rgba(60, 64, 67, 0.15);\n",
              "      fill: #174EA6;\n",
              "    }\n",
              "\n",
              "    [theme=dark] .colab-df-convert {\n",
              "      background-color: #3B4455;\n",
              "      fill: #D2E3FC;\n",
              "    }\n",
              "\n",
              "    [theme=dark] .colab-df-convert:hover {\n",
              "      background-color: #434B5C;\n",
              "      box-shadow: 0px 1px 3px 1px rgba(0, 0, 0, 0.15);\n",
              "      filter: drop-shadow(0px 1px 2px rgba(0, 0, 0, 0.3));\n",
              "      fill: #FFFFFF;\n",
              "    }\n",
              "  </style>\n",
              "\n",
              "      <script>\n",
              "        const buttonEl =\n",
              "          document.querySelector('#df-c17e8fed-534d-430f-a3fe-dd584996b3f1 button.colab-df-convert');\n",
              "        buttonEl.style.display =\n",
              "          google.colab.kernel.accessAllowed ? 'block' : 'none';\n",
              "\n",
              "        async function convertToInteractive(key) {\n",
              "          const element = document.querySelector('#df-c17e8fed-534d-430f-a3fe-dd584996b3f1');\n",
              "          const dataTable =\n",
              "            await google.colab.kernel.invokeFunction('convertToInteractive',\n",
              "                                                     [key], {});\n",
              "          if (!dataTable) return;\n",
              "\n",
              "          const docLinkHtml = 'Like what you see? Visit the ' +\n",
              "            '<a target=\"_blank\" href=https://colab.research.google.com/notebooks/data_table.ipynb>data table notebook</a>'\n",
              "            + ' to learn more about interactive tables.';\n",
              "          element.innerHTML = '';\n",
              "          dataTable['output_type'] = 'display_data';\n",
              "          await google.colab.output.renderOutput(dataTable, element);\n",
              "          const docLink = document.createElement('div');\n",
              "          docLink.innerHTML = docLinkHtml;\n",
              "          element.appendChild(docLink);\n",
              "        }\n",
              "      </script>\n",
              "    </div>\n",
              "  </div>\n",
              "  "
            ]
          },
          "metadata": {},
          "execution_count": 16
        }
      ]
    },
    {
      "cell_type": "markdown",
      "source": [
        "Exploratory Data Analysis"
      ],
      "metadata": {
        "id": "7LVfhQCwFn55"
      }
    },
    {
      "cell_type": "code",
      "source": [
        "emp_absent.shape"
      ],
      "metadata": {
        "colab": {
          "base_uri": "https://localhost:8080/"
        },
        "id": "J5Esn7WqFqQF",
        "outputId": "80200dcc-e3cb-4086-8c3a-2d2df7dfb24a"
      },
      "execution_count": null,
      "outputs": [
        {
          "output_type": "execute_result",
          "data": {
            "text/plain": [
              "(740, 21)"
            ]
          },
          "metadata": {},
          "execution_count": 19
        }
      ]
    },
    {
      "cell_type": "code",
      "source": [
        "emp_absent.head()"
      ],
      "metadata": {
        "colab": {
          "base_uri": "https://localhost:8080/",
          "height": 352
        },
        "id": "D-sDyTLYFtSP",
        "outputId": "bb111785-d12f-4ca4-f8a4-5e68cefd31f6"
      },
      "execution_count": null,
      "outputs": [
        {
          "output_type": "execute_result",
          "data": {
            "text/plain": [
              "   ID  Reason for absence  Month of absence  Day of the week  Seasons  \\\n",
              "0  11                26.0               7.0                3        1   \n",
              "1  36                 0.0               7.0                3        1   \n",
              "2   3                23.0               7.0                4        1   \n",
              "3   7                 7.0               7.0                5        1   \n",
              "4  11                23.0               7.0                5        1   \n",
              "\n",
              "   Transportation expense  Distance from Residence to Work  Service time  \\\n",
              "0                   289.0                             36.0          13.0   \n",
              "1                   118.0                             13.0          18.0   \n",
              "2                   179.0                             51.0          18.0   \n",
              "3                   279.0                              5.0          14.0   \n",
              "4                   289.0                             36.0          13.0   \n",
              "\n",
              "    Age  Work load Average/day   ...  Disciplinary failure  Education  Son  \\\n",
              "0  33.0                239554.0  ...                   0.0        1.0  2.0   \n",
              "1  50.0                239554.0  ...                   1.0        1.0  1.0   \n",
              "2  38.0                239554.0  ...                   0.0        1.0  0.0   \n",
              "3  39.0                239554.0  ...                   0.0        1.0  2.0   \n",
              "4  33.0                239554.0  ...                   0.0        1.0  2.0   \n",
              "\n",
              "   Social drinker  Social smoker  Pet  Weight  Height  Body mass index  \\\n",
              "0             1.0            0.0  1.0    90.0   172.0             30.0   \n",
              "1             1.0            0.0  0.0    98.0   178.0             31.0   \n",
              "2             1.0            0.0  0.0    89.0   170.0             31.0   \n",
              "3             1.0            1.0  0.0    68.0   168.0             24.0   \n",
              "4             1.0            0.0  1.0    90.0   172.0             30.0   \n",
              "\n",
              "   Absenteeism time in hours  \n",
              "0                        4.0  \n",
              "1                        0.0  \n",
              "2                        2.0  \n",
              "3                        4.0  \n",
              "4                        2.0  \n",
              "\n",
              "[5 rows x 21 columns]"
            ],
            "text/html": [
              "\n",
              "  <div id=\"df-ed13d96b-528e-4562-af70-371735133495\">\n",
              "    <div class=\"colab-df-container\">\n",
              "      <div>\n",
              "<style scoped>\n",
              "    .dataframe tbody tr th:only-of-type {\n",
              "        vertical-align: middle;\n",
              "    }\n",
              "\n",
              "    .dataframe tbody tr th {\n",
              "        vertical-align: top;\n",
              "    }\n",
              "\n",
              "    .dataframe thead th {\n",
              "        text-align: right;\n",
              "    }\n",
              "</style>\n",
              "<table border=\"1\" class=\"dataframe\">\n",
              "  <thead>\n",
              "    <tr style=\"text-align: right;\">\n",
              "      <th></th>\n",
              "      <th>ID</th>\n",
              "      <th>Reason for absence</th>\n",
              "      <th>Month of absence</th>\n",
              "      <th>Day of the week</th>\n",
              "      <th>Seasons</th>\n",
              "      <th>Transportation expense</th>\n",
              "      <th>Distance from Residence to Work</th>\n",
              "      <th>Service time</th>\n",
              "      <th>Age</th>\n",
              "      <th>Work load Average/day</th>\n",
              "      <th>...</th>\n",
              "      <th>Disciplinary failure</th>\n",
              "      <th>Education</th>\n",
              "      <th>Son</th>\n",
              "      <th>Social drinker</th>\n",
              "      <th>Social smoker</th>\n",
              "      <th>Pet</th>\n",
              "      <th>Weight</th>\n",
              "      <th>Height</th>\n",
              "      <th>Body mass index</th>\n",
              "      <th>Absenteeism time in hours</th>\n",
              "    </tr>\n",
              "  </thead>\n",
              "  <tbody>\n",
              "    <tr>\n",
              "      <th>0</th>\n",
              "      <td>11</td>\n",
              "      <td>26.0</td>\n",
              "      <td>7.0</td>\n",
              "      <td>3</td>\n",
              "      <td>1</td>\n",
              "      <td>289.0</td>\n",
              "      <td>36.0</td>\n",
              "      <td>13.0</td>\n",
              "      <td>33.0</td>\n",
              "      <td>239554.0</td>\n",
              "      <td>...</td>\n",
              "      <td>0.0</td>\n",
              "      <td>1.0</td>\n",
              "      <td>2.0</td>\n",
              "      <td>1.0</td>\n",
              "      <td>0.0</td>\n",
              "      <td>1.0</td>\n",
              "      <td>90.0</td>\n",
              "      <td>172.0</td>\n",
              "      <td>30.0</td>\n",
              "      <td>4.0</td>\n",
              "    </tr>\n",
              "    <tr>\n",
              "      <th>1</th>\n",
              "      <td>36</td>\n",
              "      <td>0.0</td>\n",
              "      <td>7.0</td>\n",
              "      <td>3</td>\n",
              "      <td>1</td>\n",
              "      <td>118.0</td>\n",
              "      <td>13.0</td>\n",
              "      <td>18.0</td>\n",
              "      <td>50.0</td>\n",
              "      <td>239554.0</td>\n",
              "      <td>...</td>\n",
              "      <td>1.0</td>\n",
              "      <td>1.0</td>\n",
              "      <td>1.0</td>\n",
              "      <td>1.0</td>\n",
              "      <td>0.0</td>\n",
              "      <td>0.0</td>\n",
              "      <td>98.0</td>\n",
              "      <td>178.0</td>\n",
              "      <td>31.0</td>\n",
              "      <td>0.0</td>\n",
              "    </tr>\n",
              "    <tr>\n",
              "      <th>2</th>\n",
              "      <td>3</td>\n",
              "      <td>23.0</td>\n",
              "      <td>7.0</td>\n",
              "      <td>4</td>\n",
              "      <td>1</td>\n",
              "      <td>179.0</td>\n",
              "      <td>51.0</td>\n",
              "      <td>18.0</td>\n",
              "      <td>38.0</td>\n",
              "      <td>239554.0</td>\n",
              "      <td>...</td>\n",
              "      <td>0.0</td>\n",
              "      <td>1.0</td>\n",
              "      <td>0.0</td>\n",
              "      <td>1.0</td>\n",
              "      <td>0.0</td>\n",
              "      <td>0.0</td>\n",
              "      <td>89.0</td>\n",
              "      <td>170.0</td>\n",
              "      <td>31.0</td>\n",
              "      <td>2.0</td>\n",
              "    </tr>\n",
              "    <tr>\n",
              "      <th>3</th>\n",
              "      <td>7</td>\n",
              "      <td>7.0</td>\n",
              "      <td>7.0</td>\n",
              "      <td>5</td>\n",
              "      <td>1</td>\n",
              "      <td>279.0</td>\n",
              "      <td>5.0</td>\n",
              "      <td>14.0</td>\n",
              "      <td>39.0</td>\n",
              "      <td>239554.0</td>\n",
              "      <td>...</td>\n",
              "      <td>0.0</td>\n",
              "      <td>1.0</td>\n",
              "      <td>2.0</td>\n",
              "      <td>1.0</td>\n",
              "      <td>1.0</td>\n",
              "      <td>0.0</td>\n",
              "      <td>68.0</td>\n",
              "      <td>168.0</td>\n",
              "      <td>24.0</td>\n",
              "      <td>4.0</td>\n",
              "    </tr>\n",
              "    <tr>\n",
              "      <th>4</th>\n",
              "      <td>11</td>\n",
              "      <td>23.0</td>\n",
              "      <td>7.0</td>\n",
              "      <td>5</td>\n",
              "      <td>1</td>\n",
              "      <td>289.0</td>\n",
              "      <td>36.0</td>\n",
              "      <td>13.0</td>\n",
              "      <td>33.0</td>\n",
              "      <td>239554.0</td>\n",
              "      <td>...</td>\n",
              "      <td>0.0</td>\n",
              "      <td>1.0</td>\n",
              "      <td>2.0</td>\n",
              "      <td>1.0</td>\n",
              "      <td>0.0</td>\n",
              "      <td>1.0</td>\n",
              "      <td>90.0</td>\n",
              "      <td>172.0</td>\n",
              "      <td>30.0</td>\n",
              "      <td>2.0</td>\n",
              "    </tr>\n",
              "  </tbody>\n",
              "</table>\n",
              "<p>5 rows × 21 columns</p>\n",
              "</div>\n",
              "      <button class=\"colab-df-convert\" onclick=\"convertToInteractive('df-ed13d96b-528e-4562-af70-371735133495')\"\n",
              "              title=\"Convert this dataframe to an interactive table.\"\n",
              "              style=\"display:none;\">\n",
              "        \n",
              "  <svg xmlns=\"http://www.w3.org/2000/svg\" height=\"24px\"viewBox=\"0 0 24 24\"\n",
              "       width=\"24px\">\n",
              "    <path d=\"M0 0h24v24H0V0z\" fill=\"none\"/>\n",
              "    <path d=\"M18.56 5.44l.94 2.06.94-2.06 2.06-.94-2.06-.94-.94-2.06-.94 2.06-2.06.94zm-11 1L8.5 8.5l.94-2.06 2.06-.94-2.06-.94L8.5 2.5l-.94 2.06-2.06.94zm10 10l.94 2.06.94-2.06 2.06-.94-2.06-.94-.94-2.06-.94 2.06-2.06.94z\"/><path d=\"M17.41 7.96l-1.37-1.37c-.4-.4-.92-.59-1.43-.59-.52 0-1.04.2-1.43.59L10.3 9.45l-7.72 7.72c-.78.78-.78 2.05 0 2.83L4 21.41c.39.39.9.59 1.41.59.51 0 1.02-.2 1.41-.59l7.78-7.78 2.81-2.81c.8-.78.8-2.07 0-2.86zM5.41 20L4 18.59l7.72-7.72 1.47 1.35L5.41 20z\"/>\n",
              "  </svg>\n",
              "      </button>\n",
              "      \n",
              "  <style>\n",
              "    .colab-df-container {\n",
              "      display:flex;\n",
              "      flex-wrap:wrap;\n",
              "      gap: 12px;\n",
              "    }\n",
              "\n",
              "    .colab-df-convert {\n",
              "      background-color: #E8F0FE;\n",
              "      border: none;\n",
              "      border-radius: 50%;\n",
              "      cursor: pointer;\n",
              "      display: none;\n",
              "      fill: #1967D2;\n",
              "      height: 32px;\n",
              "      padding: 0 0 0 0;\n",
              "      width: 32px;\n",
              "    }\n",
              "\n",
              "    .colab-df-convert:hover {\n",
              "      background-color: #E2EBFA;\n",
              "      box-shadow: 0px 1px 2px rgba(60, 64, 67, 0.3), 0px 1px 3px 1px rgba(60, 64, 67, 0.15);\n",
              "      fill: #174EA6;\n",
              "    }\n",
              "\n",
              "    [theme=dark] .colab-df-convert {\n",
              "      background-color: #3B4455;\n",
              "      fill: #D2E3FC;\n",
              "    }\n",
              "\n",
              "    [theme=dark] .colab-df-convert:hover {\n",
              "      background-color: #434B5C;\n",
              "      box-shadow: 0px 1px 3px 1px rgba(0, 0, 0, 0.15);\n",
              "      filter: drop-shadow(0px 1px 2px rgba(0, 0, 0, 0.3));\n",
              "      fill: #FFFFFF;\n",
              "    }\n",
              "  </style>\n",
              "\n",
              "      <script>\n",
              "        const buttonEl =\n",
              "          document.querySelector('#df-ed13d96b-528e-4562-af70-371735133495 button.colab-df-convert');\n",
              "        buttonEl.style.display =\n",
              "          google.colab.kernel.accessAllowed ? 'block' : 'none';\n",
              "\n",
              "        async function convertToInteractive(key) {\n",
              "          const element = document.querySelector('#df-ed13d96b-528e-4562-af70-371735133495');\n",
              "          const dataTable =\n",
              "            await google.colab.kernel.invokeFunction('convertToInteractive',\n",
              "                                                     [key], {});\n",
              "          if (!dataTable) return;\n",
              "\n",
              "          const docLinkHtml = 'Like what you see? Visit the ' +\n",
              "            '<a target=\"_blank\" href=https://colab.research.google.com/notebooks/data_table.ipynb>data table notebook</a>'\n",
              "            + ' to learn more about interactive tables.';\n",
              "          element.innerHTML = '';\n",
              "          dataTable['output_type'] = 'display_data';\n",
              "          await google.colab.output.renderOutput(dataTable, element);\n",
              "          const docLink = document.createElement('div');\n",
              "          docLink.innerHTML = docLinkHtml;\n",
              "          element.appendChild(docLink);\n",
              "        }\n",
              "      </script>\n",
              "    </div>\n",
              "  </div>\n",
              "  "
            ]
          },
          "metadata": {},
          "execution_count": 20
        }
      ]
    },
    {
      "cell_type": "code",
      "source": [
        "emp_absent.dtypes"
      ],
      "metadata": {
        "colab": {
          "base_uri": "https://localhost:8080/"
        },
        "id": "3AueBzWCGb2n",
        "outputId": "9d0683e8-87fc-47e1-e86c-d1190b374167"
      },
      "execution_count": null,
      "outputs": [
        {
          "output_type": "execute_result",
          "data": {
            "text/plain": [
              "ID                                   int64\n",
              "Reason for absence                 float64\n",
              "Month of absence                   float64\n",
              "Day of the week                      int64\n",
              "Seasons                              int64\n",
              "Transportation expense             float64\n",
              "Distance from Residence to Work    float64\n",
              "Service time                       float64\n",
              "Age                                float64\n",
              "Work load Average/day              float64\n",
              "Hit target                         float64\n",
              "Disciplinary failure               float64\n",
              "Education                          float64\n",
              "Son                                float64\n",
              "Social drinker                     float64\n",
              "Social smoker                      float64\n",
              "Pet                                float64\n",
              "Weight                             float64\n",
              "Height                             float64\n",
              "Body mass index                    float64\n",
              "Absenteeism time in hours          float64\n",
              "dtype: object"
            ]
          },
          "metadata": {},
          "execution_count": 21
        }
      ]
    },
    {
      "cell_type": "code",
      "source": [
        "emp_absent.nunique()"
      ],
      "metadata": {
        "colab": {
          "base_uri": "https://localhost:8080/"
        },
        "id": "0k-AlO5xGe53",
        "outputId": "6e6025bc-c5a2-42af-855f-ade122609058"
      },
      "execution_count": null,
      "outputs": [
        {
          "output_type": "execute_result",
          "data": {
            "text/plain": [
              "ID                                 36\n",
              "Reason for absence                 28\n",
              "Month of absence                   13\n",
              "Day of the week                     5\n",
              "Seasons                             4\n",
              "Transportation expense             24\n",
              "Distance from Residence to Work    25\n",
              "Service time                       18\n",
              "Age                                22\n",
              "Work load Average/day              38\n",
              "Hit target                         13\n",
              "Disciplinary failure                2\n",
              "Education                           4\n",
              "Son                                 5\n",
              "Social drinker                      2\n",
              "Social smoker                       2\n",
              "Pet                                 6\n",
              "Weight                             26\n",
              "Height                             14\n",
              "Body mass index                    17\n",
              "Absenteeism time in hours          19\n",
              "dtype: int64"
            ]
          },
          "metadata": {},
          "execution_count": 22
        }
      ]
    },
    {
      "cell_type": "code",
      "source": [
        "emp_absent.columns"
      ],
      "metadata": {
        "colab": {
          "base_uri": "https://localhost:8080/"
        },
        "id": "czZPjGWQGifH",
        "outputId": "78507f87-a656-4e5c-efa2-b2a7e1a145e1"
      },
      "execution_count": null,
      "outputs": [
        {
          "output_type": "execute_result",
          "data": {
            "text/plain": [
              "Index(['ID', 'Reason for absence', 'Month of absence', 'Day of the week',\n",
              "       'Seasons', 'Transportation expense', 'Distance from Residence to Work',\n",
              "       'Service time', 'Age', 'Work load Average/day ', 'Hit target',\n",
              "       'Disciplinary failure', 'Education', 'Son', 'Social drinker',\n",
              "       'Social smoker', 'Pet', 'Weight', 'Height', 'Body mass index',\n",
              "       'Absenteeism time in hours'],\n",
              "      dtype='object')"
            ]
          },
          "metadata": {},
          "execution_count": 23
        }
      ]
    },
    {
      "cell_type": "code",
      "source": [
        "#Transform data types\n",
        "emp_absent['ID'] = emp_absent['ID'].astype('category')\n",
        "\n",
        "emp_absent['Reason for absence'] = emp_absent['Reason for absence'].replace(0,20)\n",
        "emp_absent['Reason for absence'] = emp_absent['Reason for absence'].astype('category')\n",
        "\n",
        "emp_absent['Month of absence'] = emp_absent['Month of absence'].replace(0,np.nan)\n",
        "emp_absent['Month of absence'] = emp_absent['Month of absence'].astype('category')\n",
        "\n",
        "emp_absent['Day of the week'] = emp_absent['Day of the week'].astype('category')\n",
        "emp_absent['Seasons'] = emp_absent['Seasons'].astype('category')\n",
        "emp_absent['Disciplinary failure'] = emp_absent['Disciplinary failure'].astype('category')\n",
        "emp_absent['Education'] = emp_absent['Education'].astype('category')\n",
        "emp_absent['Son'] = emp_absent['Son'].astype('category')\n",
        "emp_absent['Social drinker'] = emp_absent['Social drinker'].astype('category')\n",
        "emp_absent['Social smoker'] = emp_absent['Social smoker'].astype('category')\n",
        "emp_absent['Pet'] = emp_absent['Pet'].astype('category')"
      ],
      "metadata": {
        "id": "edKfRf-dGvPv"
      },
      "execution_count": null,
      "outputs": []
    },
    {
      "cell_type": "code",
      "source": [
        "#Make a copy of dataframe\n",
        "df = emp_absent.copy()"
      ],
      "metadata": {
        "id": "2fRXCYBpH-P-"
      },
      "execution_count": null,
      "outputs": []
    },
    {
      "cell_type": "code",
      "source": [
        "# From the EDA and problem statement file categorising the variables in two category \" Continuos\" and \"Categorical\"\n",
        "continuous_vars = ['Distance from Residence to Work', 'Service time', 'Age', 'Work load Average/day ', 'Transportation expense',\n",
        "       'Hit target', 'Weight', 'Height', 'Body mass index', 'Absenteeism time in hours']\n",
        "\n",
        "categorical_vars = ['ID','Reason for absence','Month of absence','Day of the week',\n",
        "                     'Seasons','Disciplinary failure', 'Education', 'Social drinker',\n",
        "                     'Social smoker', 'Pet', 'Son']"
      ],
      "metadata": {
        "id": "Md0AaJbYIb5X"
      },
      "execution_count": null,
      "outputs": []
    },
    {
      "cell_type": "markdown",
      "source": [
        "Missing Value Analysis"
      ],
      "metadata": {
        "id": "UN53GyKhI-Ei"
      }
    },
    {
      "cell_type": "code",
      "source": [
        "#Creating dataframe with number of missing values\n",
        "missing_val = pd.DataFrame(df.isnull().sum())\n",
        "\n",
        "#Reset the index to get row names as columns\n",
        "missing_val = missing_val.reset_index()"
      ],
      "metadata": {
        "id": "b4ZqIz6II0GG"
      },
      "execution_count": null,
      "outputs": []
    },
    {
      "cell_type": "code",
      "source": [
        "df.isnull().sum()"
      ],
      "metadata": {
        "colab": {
          "base_uri": "https://localhost:8080/"
        },
        "id": "gWJx7cGxbJiJ",
        "outputId": "d045f263-90b1-450a-839e-6f86a4aa6bf1"
      },
      "execution_count": null,
      "outputs": [
        {
          "output_type": "execute_result",
          "data": {
            "text/plain": [
              "Transportation expense             0\n",
              "Distance from Residence to Work    0\n",
              "Service time                       0\n",
              "Age                                0\n",
              "Work load Average/day              0\n",
              "                                  ..\n",
              "Son_0.0                            0\n",
              "Son_1.0                            0\n",
              "Son_2.0                            0\n",
              "Son_3.0                            0\n",
              "Son_4.0                            0\n",
              "Length: 115, dtype: int64"
            ]
          },
          "metadata": {},
          "execution_count": 68
        }
      ]
    },
    {
      "cell_type": "code",
      "source": [],
      "metadata": {
        "id": "7fuSUPOybKPV"
      },
      "execution_count": null,
      "outputs": []
    },
    {
      "cell_type": "code",
      "source": [
        "missing_val"
      ],
      "metadata": {
        "colab": {
          "base_uri": "https://localhost:8080/",
          "height": 708
        },
        "id": "MH6SkRzvJjJv",
        "outputId": "9f956981-9faa-45b2-88b8-e364bb79c598"
      },
      "execution_count": null,
      "outputs": [
        {
          "output_type": "execute_result",
          "data": {
            "text/plain": [
              "                              index   0\n",
              "0                                ID   0\n",
              "1                Reason for absence   3\n",
              "2                  Month of absence   4\n",
              "3                   Day of the week   0\n",
              "4                           Seasons   0\n",
              "5            Transportation expense   7\n",
              "6   Distance from Residence to Work   3\n",
              "7                      Service time   3\n",
              "8                               Age   3\n",
              "9            Work load Average/day   10\n",
              "10                       Hit target   6\n",
              "11             Disciplinary failure   6\n",
              "12                        Education  10\n",
              "13                              Son   6\n",
              "14                   Social drinker   3\n",
              "15                    Social smoker   4\n",
              "16                              Pet   2\n",
              "17                           Weight   1\n",
              "18                           Height  14\n",
              "19                  Body mass index  31\n",
              "20        Absenteeism time in hours  22"
            ],
            "text/html": [
              "\n",
              "  <div id=\"df-a79d8a8d-4e41-410f-9233-9b966df8bfa9\">\n",
              "    <div class=\"colab-df-container\">\n",
              "      <div>\n",
              "<style scoped>\n",
              "    .dataframe tbody tr th:only-of-type {\n",
              "        vertical-align: middle;\n",
              "    }\n",
              "\n",
              "    .dataframe tbody tr th {\n",
              "        vertical-align: top;\n",
              "    }\n",
              "\n",
              "    .dataframe thead th {\n",
              "        text-align: right;\n",
              "    }\n",
              "</style>\n",
              "<table border=\"1\" class=\"dataframe\">\n",
              "  <thead>\n",
              "    <tr style=\"text-align: right;\">\n",
              "      <th></th>\n",
              "      <th>index</th>\n",
              "      <th>0</th>\n",
              "    </tr>\n",
              "  </thead>\n",
              "  <tbody>\n",
              "    <tr>\n",
              "      <th>0</th>\n",
              "      <td>ID</td>\n",
              "      <td>0</td>\n",
              "    </tr>\n",
              "    <tr>\n",
              "      <th>1</th>\n",
              "      <td>Reason for absence</td>\n",
              "      <td>3</td>\n",
              "    </tr>\n",
              "    <tr>\n",
              "      <th>2</th>\n",
              "      <td>Month of absence</td>\n",
              "      <td>4</td>\n",
              "    </tr>\n",
              "    <tr>\n",
              "      <th>3</th>\n",
              "      <td>Day of the week</td>\n",
              "      <td>0</td>\n",
              "    </tr>\n",
              "    <tr>\n",
              "      <th>4</th>\n",
              "      <td>Seasons</td>\n",
              "      <td>0</td>\n",
              "    </tr>\n",
              "    <tr>\n",
              "      <th>5</th>\n",
              "      <td>Transportation expense</td>\n",
              "      <td>7</td>\n",
              "    </tr>\n",
              "    <tr>\n",
              "      <th>6</th>\n",
              "      <td>Distance from Residence to Work</td>\n",
              "      <td>3</td>\n",
              "    </tr>\n",
              "    <tr>\n",
              "      <th>7</th>\n",
              "      <td>Service time</td>\n",
              "      <td>3</td>\n",
              "    </tr>\n",
              "    <tr>\n",
              "      <th>8</th>\n",
              "      <td>Age</td>\n",
              "      <td>3</td>\n",
              "    </tr>\n",
              "    <tr>\n",
              "      <th>9</th>\n",
              "      <td>Work load Average/day</td>\n",
              "      <td>10</td>\n",
              "    </tr>\n",
              "    <tr>\n",
              "      <th>10</th>\n",
              "      <td>Hit target</td>\n",
              "      <td>6</td>\n",
              "    </tr>\n",
              "    <tr>\n",
              "      <th>11</th>\n",
              "      <td>Disciplinary failure</td>\n",
              "      <td>6</td>\n",
              "    </tr>\n",
              "    <tr>\n",
              "      <th>12</th>\n",
              "      <td>Education</td>\n",
              "      <td>10</td>\n",
              "    </tr>\n",
              "    <tr>\n",
              "      <th>13</th>\n",
              "      <td>Son</td>\n",
              "      <td>6</td>\n",
              "    </tr>\n",
              "    <tr>\n",
              "      <th>14</th>\n",
              "      <td>Social drinker</td>\n",
              "      <td>3</td>\n",
              "    </tr>\n",
              "    <tr>\n",
              "      <th>15</th>\n",
              "      <td>Social smoker</td>\n",
              "      <td>4</td>\n",
              "    </tr>\n",
              "    <tr>\n",
              "      <th>16</th>\n",
              "      <td>Pet</td>\n",
              "      <td>2</td>\n",
              "    </tr>\n",
              "    <tr>\n",
              "      <th>17</th>\n",
              "      <td>Weight</td>\n",
              "      <td>1</td>\n",
              "    </tr>\n",
              "    <tr>\n",
              "      <th>18</th>\n",
              "      <td>Height</td>\n",
              "      <td>14</td>\n",
              "    </tr>\n",
              "    <tr>\n",
              "      <th>19</th>\n",
              "      <td>Body mass index</td>\n",
              "      <td>31</td>\n",
              "    </tr>\n",
              "    <tr>\n",
              "      <th>20</th>\n",
              "      <td>Absenteeism time in hours</td>\n",
              "      <td>22</td>\n",
              "    </tr>\n",
              "  </tbody>\n",
              "</table>\n",
              "</div>\n",
              "      <button class=\"colab-df-convert\" onclick=\"convertToInteractive('df-a79d8a8d-4e41-410f-9233-9b966df8bfa9')\"\n",
              "              title=\"Convert this dataframe to an interactive table.\"\n",
              "              style=\"display:none;\">\n",
              "        \n",
              "  <svg xmlns=\"http://www.w3.org/2000/svg\" height=\"24px\"viewBox=\"0 0 24 24\"\n",
              "       width=\"24px\">\n",
              "    <path d=\"M0 0h24v24H0V0z\" fill=\"none\"/>\n",
              "    <path d=\"M18.56 5.44l.94 2.06.94-2.06 2.06-.94-2.06-.94-.94-2.06-.94 2.06-2.06.94zm-11 1L8.5 8.5l.94-2.06 2.06-.94-2.06-.94L8.5 2.5l-.94 2.06-2.06.94zm10 10l.94 2.06.94-2.06 2.06-.94-2.06-.94-.94-2.06-.94 2.06-2.06.94z\"/><path d=\"M17.41 7.96l-1.37-1.37c-.4-.4-.92-.59-1.43-.59-.52 0-1.04.2-1.43.59L10.3 9.45l-7.72 7.72c-.78.78-.78 2.05 0 2.83L4 21.41c.39.39.9.59 1.41.59.51 0 1.02-.2 1.41-.59l7.78-7.78 2.81-2.81c.8-.78.8-2.07 0-2.86zM5.41 20L4 18.59l7.72-7.72 1.47 1.35L5.41 20z\"/>\n",
              "  </svg>\n",
              "      </button>\n",
              "      \n",
              "  <style>\n",
              "    .colab-df-container {\n",
              "      display:flex;\n",
              "      flex-wrap:wrap;\n",
              "      gap: 12px;\n",
              "    }\n",
              "\n",
              "    .colab-df-convert {\n",
              "      background-color: #E8F0FE;\n",
              "      border: none;\n",
              "      border-radius: 50%;\n",
              "      cursor: pointer;\n",
              "      display: none;\n",
              "      fill: #1967D2;\n",
              "      height: 32px;\n",
              "      padding: 0 0 0 0;\n",
              "      width: 32px;\n",
              "    }\n",
              "\n",
              "    .colab-df-convert:hover {\n",
              "      background-color: #E2EBFA;\n",
              "      box-shadow: 0px 1px 2px rgba(60, 64, 67, 0.3), 0px 1px 3px 1px rgba(60, 64, 67, 0.15);\n",
              "      fill: #174EA6;\n",
              "    }\n",
              "\n",
              "    [theme=dark] .colab-df-convert {\n",
              "      background-color: #3B4455;\n",
              "      fill: #D2E3FC;\n",
              "    }\n",
              "\n",
              "    [theme=dark] .colab-df-convert:hover {\n",
              "      background-color: #434B5C;\n",
              "      box-shadow: 0px 1px 3px 1px rgba(0, 0, 0, 0.15);\n",
              "      filter: drop-shadow(0px 1px 2px rgba(0, 0, 0, 0.3));\n",
              "      fill: #FFFFFF;\n",
              "    }\n",
              "  </style>\n",
              "\n",
              "      <script>\n",
              "        const buttonEl =\n",
              "          document.querySelector('#df-a79d8a8d-4e41-410f-9233-9b966df8bfa9 button.colab-df-convert');\n",
              "        buttonEl.style.display =\n",
              "          google.colab.kernel.accessAllowed ? 'block' : 'none';\n",
              "\n",
              "        async function convertToInteractive(key) {\n",
              "          const element = document.querySelector('#df-a79d8a8d-4e41-410f-9233-9b966df8bfa9');\n",
              "          const dataTable =\n",
              "            await google.colab.kernel.invokeFunction('convertToInteractive',\n",
              "                                                     [key], {});\n",
              "          if (!dataTable) return;\n",
              "\n",
              "          const docLinkHtml = 'Like what you see? Visit the ' +\n",
              "            '<a target=\"_blank\" href=https://colab.research.google.com/notebooks/data_table.ipynb>data table notebook</a>'\n",
              "            + ' to learn more about interactive tables.';\n",
              "          element.innerHTML = '';\n",
              "          dataTable['output_type'] = 'display_data';\n",
              "          await google.colab.output.renderOutput(dataTable, element);\n",
              "          const docLink = document.createElement('div');\n",
              "          docLink.innerHTML = docLinkHtml;\n",
              "          element.appendChild(docLink);\n",
              "        }\n",
              "      </script>\n",
              "    </div>\n",
              "  </div>\n",
              "  "
            ]
          },
          "metadata": {},
          "execution_count": 29
        }
      ]
    },
    {
      "cell_type": "code",
      "source": [
        "\n",
        "#Rename the columns\n",
        "missing_val = missing_val.rename(columns = {'index': 'Variables', 0: 'Missing_perc'})\n",
        "missing_val\n",
        "\n",
        "#Calculate percentage\n",
        "missing_val['Missing_perc'] = (missing_val['Missing_perc']/len(df))*100\n",
        "\n",
        "#Sort the rows according to decreasing missing percentage\n",
        "missing_val = missing_val.sort_values('Missing_perc', ascending = False).reset_index(drop = True)\n",
        "\n",
        "#Save output to csv file\n",
        "missing_val.to_csv(\"Missing_perc.csv\", index = False)\n",
        "\n",
        "missing_val"
      ],
      "metadata": {
        "colab": {
          "base_uri": "https://localhost:8080/",
          "height": 708
        },
        "id": "6yOJlJilJkvG",
        "outputId": "1f55e34b-2234-4b64-bd5f-65946057e597"
      },
      "execution_count": null,
      "outputs": [
        {
          "output_type": "execute_result",
          "data": {
            "text/plain": [
              "                          Variables  Missing_perc\n",
              "0                   Body mass index      0.566107\n",
              "1         Absenteeism time in hours      0.401753\n",
              "2                            Height      0.255661\n",
              "3            Work load Average/day       0.182615\n",
              "4                         Education      0.182615\n",
              "5            Transportation expense      0.127831\n",
              "6                               Son      0.109569\n",
              "7              Disciplinary failure      0.109569\n",
              "8                        Hit target      0.109569\n",
              "9                  Month of absence      0.073046\n",
              "10                    Social smoker      0.073046\n",
              "11                              Age      0.054785\n",
              "12               Reason for absence      0.054785\n",
              "13                     Service time      0.054785\n",
              "14  Distance from Residence to Work      0.054785\n",
              "15                   Social drinker      0.054785\n",
              "16                              Pet      0.036523\n",
              "17                           Weight      0.018262\n",
              "18                          Seasons      0.000000\n",
              "19                  Day of the week      0.000000\n",
              "20                               ID      0.000000"
            ],
            "text/html": [
              "\n",
              "  <div id=\"df-dffe8d82-6b11-489c-b8c0-342b93593e62\">\n",
              "    <div class=\"colab-df-container\">\n",
              "      <div>\n",
              "<style scoped>\n",
              "    .dataframe tbody tr th:only-of-type {\n",
              "        vertical-align: middle;\n",
              "    }\n",
              "\n",
              "    .dataframe tbody tr th {\n",
              "        vertical-align: top;\n",
              "    }\n",
              "\n",
              "    .dataframe thead th {\n",
              "        text-align: right;\n",
              "    }\n",
              "</style>\n",
              "<table border=\"1\" class=\"dataframe\">\n",
              "  <thead>\n",
              "    <tr style=\"text-align: right;\">\n",
              "      <th></th>\n",
              "      <th>Variables</th>\n",
              "      <th>Missing_perc</th>\n",
              "    </tr>\n",
              "  </thead>\n",
              "  <tbody>\n",
              "    <tr>\n",
              "      <th>0</th>\n",
              "      <td>Body mass index</td>\n",
              "      <td>0.566107</td>\n",
              "    </tr>\n",
              "    <tr>\n",
              "      <th>1</th>\n",
              "      <td>Absenteeism time in hours</td>\n",
              "      <td>0.401753</td>\n",
              "    </tr>\n",
              "    <tr>\n",
              "      <th>2</th>\n",
              "      <td>Height</td>\n",
              "      <td>0.255661</td>\n",
              "    </tr>\n",
              "    <tr>\n",
              "      <th>3</th>\n",
              "      <td>Work load Average/day</td>\n",
              "      <td>0.182615</td>\n",
              "    </tr>\n",
              "    <tr>\n",
              "      <th>4</th>\n",
              "      <td>Education</td>\n",
              "      <td>0.182615</td>\n",
              "    </tr>\n",
              "    <tr>\n",
              "      <th>5</th>\n",
              "      <td>Transportation expense</td>\n",
              "      <td>0.127831</td>\n",
              "    </tr>\n",
              "    <tr>\n",
              "      <th>6</th>\n",
              "      <td>Son</td>\n",
              "      <td>0.109569</td>\n",
              "    </tr>\n",
              "    <tr>\n",
              "      <th>7</th>\n",
              "      <td>Disciplinary failure</td>\n",
              "      <td>0.109569</td>\n",
              "    </tr>\n",
              "    <tr>\n",
              "      <th>8</th>\n",
              "      <td>Hit target</td>\n",
              "      <td>0.109569</td>\n",
              "    </tr>\n",
              "    <tr>\n",
              "      <th>9</th>\n",
              "      <td>Month of absence</td>\n",
              "      <td>0.073046</td>\n",
              "    </tr>\n",
              "    <tr>\n",
              "      <th>10</th>\n",
              "      <td>Social smoker</td>\n",
              "      <td>0.073046</td>\n",
              "    </tr>\n",
              "    <tr>\n",
              "      <th>11</th>\n",
              "      <td>Age</td>\n",
              "      <td>0.054785</td>\n",
              "    </tr>\n",
              "    <tr>\n",
              "      <th>12</th>\n",
              "      <td>Reason for absence</td>\n",
              "      <td>0.054785</td>\n",
              "    </tr>\n",
              "    <tr>\n",
              "      <th>13</th>\n",
              "      <td>Service time</td>\n",
              "      <td>0.054785</td>\n",
              "    </tr>\n",
              "    <tr>\n",
              "      <th>14</th>\n",
              "      <td>Distance from Residence to Work</td>\n",
              "      <td>0.054785</td>\n",
              "    </tr>\n",
              "    <tr>\n",
              "      <th>15</th>\n",
              "      <td>Social drinker</td>\n",
              "      <td>0.054785</td>\n",
              "    </tr>\n",
              "    <tr>\n",
              "      <th>16</th>\n",
              "      <td>Pet</td>\n",
              "      <td>0.036523</td>\n",
              "    </tr>\n",
              "    <tr>\n",
              "      <th>17</th>\n",
              "      <td>Weight</td>\n",
              "      <td>0.018262</td>\n",
              "    </tr>\n",
              "    <tr>\n",
              "      <th>18</th>\n",
              "      <td>Seasons</td>\n",
              "      <td>0.000000</td>\n",
              "    </tr>\n",
              "    <tr>\n",
              "      <th>19</th>\n",
              "      <td>Day of the week</td>\n",
              "      <td>0.000000</td>\n",
              "    </tr>\n",
              "    <tr>\n",
              "      <th>20</th>\n",
              "      <td>ID</td>\n",
              "      <td>0.000000</td>\n",
              "    </tr>\n",
              "  </tbody>\n",
              "</table>\n",
              "</div>\n",
              "      <button class=\"colab-df-convert\" onclick=\"convertToInteractive('df-dffe8d82-6b11-489c-b8c0-342b93593e62')\"\n",
              "              title=\"Convert this dataframe to an interactive table.\"\n",
              "              style=\"display:none;\">\n",
              "        \n",
              "  <svg xmlns=\"http://www.w3.org/2000/svg\" height=\"24px\"viewBox=\"0 0 24 24\"\n",
              "       width=\"24px\">\n",
              "    <path d=\"M0 0h24v24H0V0z\" fill=\"none\"/>\n",
              "    <path d=\"M18.56 5.44l.94 2.06.94-2.06 2.06-.94-2.06-.94-.94-2.06-.94 2.06-2.06.94zm-11 1L8.5 8.5l.94-2.06 2.06-.94-2.06-.94L8.5 2.5l-.94 2.06-2.06.94zm10 10l.94 2.06.94-2.06 2.06-.94-2.06-.94-.94-2.06-.94 2.06-2.06.94z\"/><path d=\"M17.41 7.96l-1.37-1.37c-.4-.4-.92-.59-1.43-.59-.52 0-1.04.2-1.43.59L10.3 9.45l-7.72 7.72c-.78.78-.78 2.05 0 2.83L4 21.41c.39.39.9.59 1.41.59.51 0 1.02-.2 1.41-.59l7.78-7.78 2.81-2.81c.8-.78.8-2.07 0-2.86zM5.41 20L4 18.59l7.72-7.72 1.47 1.35L5.41 20z\"/>\n",
              "  </svg>\n",
              "      </button>\n",
              "      \n",
              "  <style>\n",
              "    .colab-df-container {\n",
              "      display:flex;\n",
              "      flex-wrap:wrap;\n",
              "      gap: 12px;\n",
              "    }\n",
              "\n",
              "    .colab-df-convert {\n",
              "      background-color: #E8F0FE;\n",
              "      border: none;\n",
              "      border-radius: 50%;\n",
              "      cursor: pointer;\n",
              "      display: none;\n",
              "      fill: #1967D2;\n",
              "      height: 32px;\n",
              "      padding: 0 0 0 0;\n",
              "      width: 32px;\n",
              "    }\n",
              "\n",
              "    .colab-df-convert:hover {\n",
              "      background-color: #E2EBFA;\n",
              "      box-shadow: 0px 1px 2px rgba(60, 64, 67, 0.3), 0px 1px 3px 1px rgba(60, 64, 67, 0.15);\n",
              "      fill: #174EA6;\n",
              "    }\n",
              "\n",
              "    [theme=dark] .colab-df-convert {\n",
              "      background-color: #3B4455;\n",
              "      fill: #D2E3FC;\n",
              "    }\n",
              "\n",
              "    [theme=dark] .colab-df-convert:hover {\n",
              "      background-color: #434B5C;\n",
              "      box-shadow: 0px 1px 3px 1px rgba(0, 0, 0, 0.15);\n",
              "      filter: drop-shadow(0px 1px 2px rgba(0, 0, 0, 0.3));\n",
              "      fill: #FFFFFF;\n",
              "    }\n",
              "  </style>\n",
              "\n",
              "      <script>\n",
              "        const buttonEl =\n",
              "          document.querySelector('#df-dffe8d82-6b11-489c-b8c0-342b93593e62 button.colab-df-convert');\n",
              "        buttonEl.style.display =\n",
              "          google.colab.kernel.accessAllowed ? 'block' : 'none';\n",
              "\n",
              "        async function convertToInteractive(key) {\n",
              "          const element = document.querySelector('#df-dffe8d82-6b11-489c-b8c0-342b93593e62');\n",
              "          const dataTable =\n",
              "            await google.colab.kernel.invokeFunction('convertToInteractive',\n",
              "                                                     [key], {});\n",
              "          if (!dataTable) return;\n",
              "\n",
              "          const docLinkHtml = 'Like what you see? Visit the ' +\n",
              "            '<a target=\"_blank\" href=https://colab.research.google.com/notebooks/data_table.ipynb>data table notebook</a>'\n",
              "            + ' to learn more about interactive tables.';\n",
              "          element.innerHTML = '';\n",
              "          dataTable['output_type'] = 'display_data';\n",
              "          await google.colab.output.renderOutput(dataTable, element);\n",
              "          const docLink = document.createElement('div');\n",
              "          docLink.innerHTML = docLinkHtml;\n",
              "          element.appendChild(docLink);\n",
              "        }\n",
              "      </script>\n",
              "    </div>\n",
              "  </div>\n",
              "  "
            ]
          },
          "metadata": {},
          "execution_count": 69
        }
      ]
    },
    {
      "cell_type": "code",
      "source": [
        "len(df)"
      ],
      "metadata": {
        "colab": {
          "base_uri": "https://localhost:8080/"
        },
        "id": "biFUTbtQJ5kQ",
        "outputId": "fbef83e8-5590-4000-d3c7-b2627f36fee8"
      },
      "execution_count": null,
      "outputs": [
        {
          "output_type": "execute_result",
          "data": {
            "text/plain": [
              "740"
            ]
          },
          "metadata": {},
          "execution_count": 31
        }
      ]
    },
    {
      "cell_type": "code",
      "source": [],
      "metadata": {
        "id": "oCQzUsldJ903"
      },
      "execution_count": null,
      "outputs": []
    },
    {
      "cell_type": "markdown",
      "source": [
        "Impute missing values"
      ],
      "metadata": {
        "id": "6uZEiui8Kjps"
      }
    },
    {
      "cell_type": "code",
      "source": [
        "#Actual value = 31\n",
        "#Mean = 26.67\n",
        "#Median = 25\n",
        "#KNN = 30.80\n",
        "print(df['Body mass index'].iloc[1])\n",
        "\n",
        "#Set the value of first row in Body mass index as NAN\n",
        "#create missing value\n",
        "df['Body mass index'].iloc[1] = np.nan\n",
        "#Impute with mean\n",
        "#df['Body mass index'] = df['Body mass index'].fillna(df['Body mass index'].mean())\n",
        "\n",
        "#Impute with median\n",
        "#df['Body mass index'] = df['Body mass index'].fillna(df['Body mass index'].median())\n",
        "\n",
        "#Apply KNN imputation algorithm\n",
        "df = pd.DataFrame(KNN(k = 3).fit_transform(df), columns = df.columns)\n",
        "df['Body mass index'].iloc[1]\n",
        "#Round the values of categorical values\n",
        "for i in categorical_vars:\n",
        "    df.loc[:,i] = df.loc[:,i].round()    \n",
        "    df.loc[:,i] = df.loc[:,i].astype('category')\n",
        "#Check if any missing values\n",
        "df.isnull().sum()"
      ],
      "metadata": {
        "colab": {
          "base_uri": "https://localhost:8080/"
        },
        "id": "xpy4uZMJKkJX",
        "outputId": "c51b218a-b89d-445c-9f94-1cb8799b056d"
      },
      "execution_count": null,
      "outputs": [
        {
          "output_type": "stream",
          "name": "stdout",
          "text": [
            "31.0\n"
          ]
        },
        {
          "output_type": "stream",
          "name": "stderr",
          "text": [
            "/usr/local/lib/python3.8/dist-packages/pandas/core/indexing.py:1732: SettingWithCopyWarning: \n",
            "A value is trying to be set on a copy of a slice from a DataFrame\n",
            "\n",
            "See the caveats in the documentation: https://pandas.pydata.org/pandas-docs/stable/user_guide/indexing.html#returning-a-view-versus-a-copy\n",
            "  self._setitem_single_block(indexer, value, name)\n"
          ]
        },
        {
          "output_type": "stream",
          "name": "stdout",
          "text": [
            "Imputing row 1/740 with 0 missing, elapsed time: 0.211\n",
            "Imputing row 101/740 with 1 missing, elapsed time: 0.218\n",
            "Imputing row 201/740 with 0 missing, elapsed time: 0.229\n",
            "Imputing row 301/740 with 0 missing, elapsed time: 0.232\n",
            "Imputing row 401/740 with 0 missing, elapsed time: 0.234\n",
            "Imputing row 501/740 with 0 missing, elapsed time: 0.235\n",
            "Imputing row 601/740 with 0 missing, elapsed time: 0.237\n",
            "Imputing row 701/740 with 0 missing, elapsed time: 0.238\n"
          ]
        },
        {
          "output_type": "execute_result",
          "data": {
            "text/plain": [
              "ID                                 0\n",
              "Reason for absence                 0\n",
              "Month of absence                   0\n",
              "Day of the week                    0\n",
              "Seasons                            0\n",
              "Transportation expense             0\n",
              "Distance from Residence to Work    0\n",
              "Service time                       0\n",
              "Age                                0\n",
              "Work load Average/day              0\n",
              "Hit target                         0\n",
              "Disciplinary failure               0\n",
              "Education                          0\n",
              "Son                                0\n",
              "Social drinker                     0\n",
              "Social smoker                      0\n",
              "Pet                                0\n",
              "Weight                             0\n",
              "Height                             0\n",
              "Body mass index                    0\n",
              "Absenteeism time in hours          0\n",
              "dtype: int64"
            ]
          },
          "metadata": {},
          "execution_count": 32
        }
      ]
    },
    {
      "cell_type": "code",
      "source": [
        "#Check the bar graph of categorical Data using factorplot\n",
        "sns.set_style(\"whitegrid\")\n",
        "sns.factorplot(data=df, x='Reason for absence', kind= 'count',size=4,aspect=2)\n",
        "sns.factorplot(data=df, x='Seasons', kind= 'count',size=4,aspect=2)\n",
        "sns.factorplot(data=df, x='Education', kind= 'count',size=4,aspect=2)\n",
        "sns.factorplot(data=df, x='Disciplinary failure', kind= 'count',size=4,aspect=2)"
      ],
      "metadata": {
        "colab": {
          "base_uri": "https://localhost:8080/",
          "height": 1000
        },
        "id": "3MFfmMntKmcO",
        "outputId": "2498ab0d-72ba-4a18-c236-b30ca79c8e18"
      },
      "execution_count": null,
      "outputs": [
        {
          "output_type": "stream",
          "name": "stderr",
          "text": [
            "/usr/local/lib/python3.8/dist-packages/seaborn/categorical.py:3717: UserWarning: The `factorplot` function has been renamed to `catplot`. The original name will be removed in a future release. Please update your code. Note that the default `kind` in `factorplot` (`'point'`) has changed `'strip'` in `catplot`.\n",
            "  warnings.warn(msg)\n",
            "/usr/local/lib/python3.8/dist-packages/seaborn/categorical.py:3723: UserWarning: The `size` parameter has been renamed to `height`; please update your code.\n",
            "  warnings.warn(msg, UserWarning)\n",
            "/usr/local/lib/python3.8/dist-packages/pandas/io/formats/format.py:1429: FutureWarning: Index.ravel returning ndarray is deprecated; in a future version this will return a view on self.\n",
            "  for val, m in zip(values.ravel(), mask.ravel())\n",
            "/usr/local/lib/python3.8/dist-packages/seaborn/categorical.py:3717: UserWarning: The `factorplot` function has been renamed to `catplot`. The original name will be removed in a future release. Please update your code. Note that the default `kind` in `factorplot` (`'point'`) has changed `'strip'` in `catplot`.\n",
            "  warnings.warn(msg)\n",
            "/usr/local/lib/python3.8/dist-packages/seaborn/categorical.py:3723: UserWarning: The `size` parameter has been renamed to `height`; please update your code.\n",
            "  warnings.warn(msg, UserWarning)\n",
            "/usr/local/lib/python3.8/dist-packages/pandas/io/formats/format.py:1429: FutureWarning: Index.ravel returning ndarray is deprecated; in a future version this will return a view on self.\n",
            "  for val, m in zip(values.ravel(), mask.ravel())\n",
            "/usr/local/lib/python3.8/dist-packages/seaborn/categorical.py:3717: UserWarning: The `factorplot` function has been renamed to `catplot`. The original name will be removed in a future release. Please update your code. Note that the default `kind` in `factorplot` (`'point'`) has changed `'strip'` in `catplot`.\n",
            "  warnings.warn(msg)\n",
            "/usr/local/lib/python3.8/dist-packages/seaborn/categorical.py:3723: UserWarning: The `size` parameter has been renamed to `height`; please update your code.\n",
            "  warnings.warn(msg, UserWarning)\n",
            "/usr/local/lib/python3.8/dist-packages/pandas/io/formats/format.py:1429: FutureWarning: Index.ravel returning ndarray is deprecated; in a future version this will return a view on self.\n",
            "  for val, m in zip(values.ravel(), mask.ravel())\n",
            "/usr/local/lib/python3.8/dist-packages/seaborn/categorical.py:3717: UserWarning: The `factorplot` function has been renamed to `catplot`. The original name will be removed in a future release. Please update your code. Note that the default `kind` in `factorplot` (`'point'`) has changed `'strip'` in `catplot`.\n",
            "  warnings.warn(msg)\n",
            "/usr/local/lib/python3.8/dist-packages/seaborn/categorical.py:3723: UserWarning: The `size` parameter has been renamed to `height`; please update your code.\n",
            "  warnings.warn(msg, UserWarning)\n",
            "/usr/local/lib/python3.8/dist-packages/pandas/io/formats/format.py:1429: FutureWarning: Index.ravel returning ndarray is deprecated; in a future version this will return a view on self.\n",
            "  for val, m in zip(values.ravel(), mask.ravel())\n"
          ]
        },
        {
          "output_type": "execute_result",
          "data": {
            "text/plain": [
              "<seaborn.axisgrid.FacetGrid at 0x7f630d6c2580>"
            ]
          },
          "metadata": {},
          "execution_count": 33
        },
        {
          "output_type": "display_data",
          "data": {
            "text/plain": [
              "<Figure size 576x288 with 1 Axes>"
            ],
            "image/png": "[encoded data removed]"
          },
          "metadata": {}
        },
        {
          "output_type": "display_data",
          "data": {
            "text/plain": [
              "<Figure size 576x288 with 1 Axes>"
            ],
            "image/png": "[encoded data removed]"
          },
          "metadata": {}
        },
        {
          "output_type": "display_data",
          "data": {
            "text/plain": [
              "<Figure size 576x288 with 1 Axes>"
            ],
            "image/png": "[encoded data removed]"
          },
          "metadata": {}
        },
        {
          "output_type": "display_data",
          "data": {
            "text/plain": [
              "<Figure size 576x288 with 1 Axes>"
            ],
            "image/png": "[encoded data removed]"
          },
          "metadata": {}
        }
      ]
    },
    {
      "cell_type": "code",
      "source": [
        "#Check the distribution of numerical data using histogram\n",
        "plt.hist(data=df, x='Weight', bins='auto', label='Weight')\n",
        "plt.xlabel('Weight')\n",
        "plt.title(\"Weight Distribution\")"
      ],
      "metadata": {
        "colab": {
          "base_uri": "https://localhost:8080/",
          "height": 312
        },
        "id": "-jLLFYOMKzN3",
        "outputId": "2c1add14-4971-44eb-f570-5db74e376da7"
      },
      "execution_count": null,
      "outputs": [
        {
          "output_type": "execute_result",
          "data": {
            "text/plain": [
              "Text(0.5, 1.0, 'Weight Distribution')"
            ]
          },
          "metadata": {},
          "execution_count": 34
        },
        {
          "output_type": "display_data",
          "data": {
            "text/plain": [
              "<Figure size 432x288 with 1 Axes>"
            ],
            "image/png": "[encoded data removed]"
          },
          "metadata": {}
        }
      ]
    },
    {
      "cell_type": "code",
      "source": [
        "#Check the distribution of numerical data using histogram\n",
        "plt.hist(data=df, x='Age', bins='auto', label='Age')\n",
        "plt.xlabel('Age')\n",
        "plt.title(\"Age Distribution\")"
      ],
      "metadata": {
        "colab": {
          "base_uri": "https://localhost:8080/",
          "height": 312
        },
        "id": "dptqVqUpLT_G",
        "outputId": "46aa93b5-2cfd-472a-cf96-1cbc4cd9e73d"
      },
      "execution_count": null,
      "outputs": [
        {
          "output_type": "execute_result",
          "data": {
            "text/plain": [
              "Text(0.5, 1.0, 'Age Distribution')"
            ]
          },
          "metadata": {},
          "execution_count": 35
        },
        {
          "output_type": "display_data",
          "data": {
            "text/plain": [
              "<Figure size 432x288 with 1 Axes>"
            ],
            "image/png": "[encoded data removed]"
          },
          "metadata": {}
        }
      ]
    },
    {
      "cell_type": "code",
      "source": [
        "#Check the distribution of Temperature and Humdity against Bike rental count using scatter plot\n",
        "fig, axs = plt.subplots(1,2, figsize=(15, 5), sharey=True)\n",
        "axs[0].scatter(data=df, x='Age', y='Absenteeism time in hours')\n",
        "axs[1].scatter(data=df, x='Weight', y='Absenteeism time in hours', color = 'red')\n",
        "fig.suptitle('Scatter plot for Age and Weight')\n",
        "plt.xlabel(\"Humidity\")\n",
        "plt.ylabel(\"Count of bikes\")"
      ],
      "metadata": {
        "colab": {
          "base_uri": "https://localhost:8080/",
          "height": 387
        },
        "id": "293ccUCrLeUG",
        "outputId": "1602dba2-8191-4117-fcec-937940701cbd"
      },
      "execution_count": null,
      "outputs": [
        {
          "output_type": "execute_result",
          "data": {
            "text/plain": [
              "Text(0, 0.5, 'Count of bikes')"
            ]
          },
          "metadata": {},
          "execution_count": 36
        },
        {
          "output_type": "display_data",
          "data": {
            "text/plain": [
              "<Figure size 1080x360 with 2 Axes>"
            ],
            "image/png": "[encoded data removed]"
          },
          "metadata": {}
        }
      ]
    },
    {
      "cell_type": "code",
      "source": [
        "#Check for outliers in data using boxplot\n",
        "sns.boxplot(data=df[['Absenteeism time in hours','Body mass index','Height','Weight']])\n",
        "fig=plt.gcf()\n",
        "fig.set_size_inches(8,8)"
      ],
      "metadata": {
        "id": "hefq8v03Lt-u"
      },
      "execution_count": null,
      "outputs": []
    },
    {
      "cell_type": "code",
      "source": [
        "#Check for outliers in data using boxplot\n",
        "sns.boxplot(data=df[['Hit target','Service time','Age','Transportation expense']])\n",
        "fig=plt.gcf()\n",
        "fig.set_size_inches(8,8)"
      ],
      "metadata": {
        "colab": {
          "base_uri": "https://localhost:8080/",
          "height": 483
        },
        "id": "TQrly3teL4eu",
        "outputId": "72a53ef1-62eb-4d5b-e3b7-232d52538e65"
      },
      "execution_count": null,
      "outputs": [
        {
          "output_type": "display_data",
          "data": {
            "text/plain": [
              "<Figure size 576x576 with 1 Axes>"
            ],
            "image/png": "[encoded data removed]"
          },
          "metadata": {}
        }
      ]
    },
    {
      "cell_type": "code",
      "source": [],
      "metadata": {
        "id": "tCKZZKWjMSb2"
      },
      "execution_count": null,
      "outputs": []
    },
    {
      "cell_type": "markdown",
      "source": [
        "Outlier Analysis"
      ],
      "metadata": {
        "id": "6OvdlJ27M0Pn"
      }
    },
    {
      "cell_type": "code",
      "source": [
        "#Check for outliers using boxplots\n",
        "for i in continuous_vars:\n",
        "    # Getting 75 and 25 percentile of variable \"i\"\n",
        "    q75, q25 = np.percentile(df[i], [75,25])\n",
        "    \n",
        "    # Calculating Interquartile range\n",
        "    iqr = q75 - q25\n",
        "    \n",
        "    # Calculating upper extream and lower extream\n",
        "    minimum = q25 - (iqr*1.5)\n",
        "    maximum = q75 + (iqr*1.5)\n",
        "    \n",
        "    # Replacing all the outliers value to NA\n",
        "    df.loc[df[i]< minimum,i] = np.nan\n",
        "    df.loc[df[i]> maximum,i] = np.nan\n",
        "\n",
        "\n",
        "# Impute missing values with KNN\n",
        "df = pd.DataFrame(KNN(k = 3).fit_transform(df), columns = df.columns)\n",
        "# Checking if there is any missing value\n",
        "df.isnull().sum()"
      ],
      "metadata": {
        "colab": {
          "base_uri": "https://localhost:8080/"
        },
        "id": "DAQE-ND9M00W",
        "outputId": "c0c6216a-71d6-4180-a894-dd5508c7f55e"
      },
      "execution_count": null,
      "outputs": [
        {
          "output_type": "stream",
          "name": "stdout",
          "text": [
            "Imputing row 1/740 with 0 missing, elapsed time: 0.124\n",
            "Imputing row 101/740 with 1 missing, elapsed time: 0.126\n",
            "Imputing row 201/740 with 0 missing, elapsed time: 0.127\n",
            "Imputing row 301/740 with 0 missing, elapsed time: 0.129\n",
            "Imputing row 401/740 with 0 missing, elapsed time: 0.130\n",
            "Imputing row 501/740 with 0 missing, elapsed time: 0.132\n",
            "Imputing row 601/740 with 0 missing, elapsed time: 0.133\n",
            "Imputing row 701/740 with 0 missing, elapsed time: 0.134\n"
          ]
        },
        {
          "output_type": "execute_result",
          "data": {
            "text/plain": [
              "ID                                 0\n",
              "Reason for absence                 0\n",
              "Month of absence                   0\n",
              "Day of the week                    0\n",
              "Seasons                            0\n",
              "Transportation expense             0\n",
              "Distance from Residence to Work    0\n",
              "Service time                       0\n",
              "Age                                0\n",
              "Work load Average/day              0\n",
              "Hit target                         0\n",
              "Disciplinary failure               0\n",
              "Education                          0\n",
              "Son                                0\n",
              "Social drinker                     0\n",
              "Social smoker                      0\n",
              "Pet                                0\n",
              "Weight                             0\n",
              "Height                             0\n",
              "Body mass index                    0\n",
              "Absenteeism time in hours          0\n",
              "dtype: int64"
            ]
          },
          "metadata": {},
          "execution_count": 39
        }
      ]
    },
    {
      "cell_type": "code",
      "source": [
        "#Check for outliers in data using boxplot\n",
        "sns.boxplot(data=df[['Absenteeism time in hours','Body mass index','Height','Weight']])\n",
        "fig=plt.gcf()\n",
        "fig.set_size_inches(8,8)"
      ],
      "metadata": {
        "colab": {
          "base_uri": "https://localhost:8080/",
          "height": 483
        },
        "id": "m5maTWXrM2bO",
        "outputId": "a1080611-9261-4f37-d492-c57399d97ea4"
      },
      "execution_count": null,
      "outputs": [
        {
          "output_type": "display_data",
          "data": {
            "text/plain": [
              "<Figure size 576x576 with 1 Axes>"
            ],
            "image/png": "[encoded data removed]"
          },
          "metadata": {}
        }
      ]
    },
    {
      "cell_type": "code",
      "source": [
        "#Check for outliers in data using boxplot\n",
        "sns.boxplot(data=df[['Hit target','Service time','Age','Transportation expense']])\n",
        "fig=plt.gcf()\n",
        "fig.set_size_inches(8,8)"
      ],
      "metadata": {
        "colab": {
          "base_uri": "https://localhost:8080/",
          "height": 483
        },
        "id": "3tBTxzntM9Ul",
        "outputId": "de86ce00-4323-4a84-fee3-977825669724"
      },
      "execution_count": null,
      "outputs": [
        {
          "output_type": "display_data",
          "data": {
            "text/plain": [
              "<Figure size 576x576 with 1 Axes>"
            ],
            "image/png": "[encoded data removed]"
          },
          "metadata": {}
        }
      ]
    },
    {
      "cell_type": "code",
      "source": [],
      "metadata": {
        "id": "y2YJs2OZNAtu"
      },
      "execution_count": null,
      "outputs": []
    },
    {
      "cell_type": "markdown",
      "source": [
        "Feature Selection"
      ],
      "metadata": {
        "id": "uAl3kq-DNEKC"
      }
    },
    {
      "cell_type": "code",
      "source": [
        "#Get dataframe with all continuous variables\n",
        "df_corr = df.loc[:,continuous_vars]"
      ],
      "metadata": {
        "id": "512PUhlwNnJB"
      },
      "execution_count": null,
      "outputs": []
    },
    {
      "cell_type": "code",
      "source": [
        "#Check for multicollinearity using corelation graph\n",
        "#Set the width and hieght of the plot\n",
        "f, ax = plt.subplots(figsize=(10, 10))\n",
        "\n",
        "#Generate correlation matrix\n",
        "corr = df_corr.corr()\n",
        "\n",
        "#Plot using seaborn library\n",
        "sns.heatmap(corr, mask=np.zeros_like(corr, dtype=np.bool), \n",
        "            cmap=sns.diverging_palette(220, 50, as_cmap=True),\n",
        "            square=True, ax=ax, annot = True)\n",
        "plt.plot()"
      ],
      "metadata": {
        "colab": {
          "base_uri": "https://localhost:8080/",
          "height": 792
        },
        "id": "65V_IOXdNEg9",
        "outputId": "ba479b72-6d3d-4f58-f0f8-e07c49357373"
      },
      "execution_count": null,
      "outputs": [
        {
          "output_type": "stream",
          "name": "stderr",
          "text": [
            "<ipython-input-44-7db679a6c802>:9: DeprecationWarning: `np.bool` is a deprecated alias for the builtin `bool`. To silence this warning, use `bool` by itself. Doing this will not modify any behavior and is safe. If you specifically wanted the numpy scalar type, use `np.bool_` here.\n",
            "Deprecated in NumPy 1.20; for more details and guidance: https://numpy.org/devdocs/release/1.20.0-notes.html#deprecations\n",
            "  sns.heatmap(corr, mask=np.zeros_like(corr, dtype=np.bool),\n"
          ]
        },
        {
          "output_type": "execute_result",
          "data": {
            "text/plain": [
              "[]"
            ]
          },
          "metadata": {},
          "execution_count": 44
        },
        {
          "output_type": "display_data",
          "data": {
            "text/plain": [
              "<Figure size 720x720 with 2 Axes>"
            ],
            "image/png": "[encoded data removed]"
          },
          "metadata": {}
        }
      ]
    },
    {
      "cell_type": "code",
      "source": [
        "#Variable Reduction\n",
        "to_drop = ['Weight']\n",
        "df = df.drop(to_drop, axis = 1)"
      ],
      "metadata": {
        "id": "To71h7ihNh52"
      },
      "execution_count": null,
      "outputs": []
    },
    {
      "cell_type": "code",
      "source": [
        "# Updating the Continuous and Categorical Variables\n",
        "continuous_vars.remove('Weight')"
      ],
      "metadata": {
        "id": "YV_tOB1_Nuf2"
      },
      "execution_count": null,
      "outputs": []
    },
    {
      "cell_type": "code",
      "source": [
        "#Make a copy of clean data and export it as excel file\n",
        "clean_data = df.copy()     "
      ],
      "metadata": {
        "id": "q3ZbbD9ONxGf"
      },
      "execution_count": null,
      "outputs": []
    },
    {
      "cell_type": "code",
      "source": [
        "continuous_vars"
      ],
      "metadata": {
        "colab": {
          "base_uri": "https://localhost:8080/"
        },
        "id": "cBG_RNEkNzc-",
        "outputId": "25c2a3f5-1526-40b4-96db-7c72515174cd"
      },
      "execution_count": null,
      "outputs": [
        {
          "output_type": "execute_result",
          "data": {
            "text/plain": [
              "['Distance from Residence to Work',\n",
              " 'Service time',\n",
              " 'Age',\n",
              " 'Work load Average/day ',\n",
              " 'Transportation expense',\n",
              " 'Hit target',\n",
              " 'Height',\n",
              " 'Body mass index',\n",
              " 'Absenteeism time in hours']"
            ]
          },
          "metadata": {},
          "execution_count": 49
        }
      ]
    },
    {
      "cell_type": "code",
      "source": [
        "clean_data"
      ],
      "metadata": {
        "colab": {
          "base_uri": "https://localhost:8080/",
          "height": 540
        },
        "id": "EoMUQYKRN1ov",
        "outputId": "4b934969-551a-4072-fced-922eff24c461"
      },
      "execution_count": null,
      "outputs": [
        {
          "output_type": "execute_result",
          "data": {
            "text/plain": [
              "       ID  Reason for absence  Month of absence  Day of the week  Seasons  \\\n",
              "0    11.0                26.0               7.0              3.0      1.0   \n",
              "1    36.0                20.0               7.0              3.0      1.0   \n",
              "2     3.0                23.0               7.0              4.0      1.0   \n",
              "3     7.0                 7.0               7.0              5.0      1.0   \n",
              "4    11.0                23.0               7.0              5.0      1.0   \n",
              "..    ...                 ...               ...              ...      ...   \n",
              "735  11.0                14.0               7.0              3.0      1.0   \n",
              "736   1.0                11.0               7.0              3.0      1.0   \n",
              "737   4.0                20.0               6.0              3.0      1.0   \n",
              "738   8.0                20.0               6.0              4.0      2.0   \n",
              "739  35.0                20.0               2.0              6.0      3.0   \n",
              "\n",
              "     Transportation expense  Distance from Residence to Work  Service time  \\\n",
              "0                     289.0                             36.0          13.0   \n",
              "1                     118.0                             13.0          18.0   \n",
              "2                     179.0                             51.0          18.0   \n",
              "3                     279.0                              5.0          14.0   \n",
              "4                     289.0                             36.0          13.0   \n",
              "..                      ...                              ...           ...   \n",
              "735                   289.0                             36.0          13.0   \n",
              "736                   235.0                             11.0          14.0   \n",
              "737                   118.0                             14.0          13.0   \n",
              "738                   231.0                             35.0          14.0   \n",
              "739                   179.0                             45.0          14.0   \n",
              "\n",
              "      Age  Work load Average/day   Hit target  Disciplinary failure  \\\n",
              "0    33.0                239554.0        97.0                   0.0   \n",
              "1    50.0                239554.0        97.0                   1.0   \n",
              "2    38.0                239554.0        97.0                   0.0   \n",
              "3    39.0                239554.0        97.0                   0.0   \n",
              "4    33.0                239554.0        97.0                   0.0   \n",
              "..    ...                     ...         ...                   ...   \n",
              "735  33.0                264604.0        93.0                   0.0   \n",
              "736  37.0                264604.0        93.0                   0.0   \n",
              "737  40.0                271219.0        95.0                   0.0   \n",
              "738  39.0                271219.0        95.0                   0.0   \n",
              "739  53.0                271219.0        95.0                   0.0   \n",
              "\n",
              "     Education  Son  Social drinker  Social smoker  Pet      Height  \\\n",
              "0          1.0  2.0             1.0            0.0  1.0  172.000000   \n",
              "1          1.0  1.0             1.0            0.0  0.0  170.000004   \n",
              "2          1.0  0.0             1.0            0.0  0.0  170.000000   \n",
              "3          1.0  2.0             1.0            1.0  0.0  168.000000   \n",
              "4          1.0  2.0             1.0            0.0  1.0  172.000000   \n",
              "..         ...  ...             ...            ...  ...         ...   \n",
              "735        1.0  2.0             1.0            0.0  1.0  172.000000   \n",
              "736        3.0  1.0             0.0            0.0  1.0  172.000000   \n",
              "737        1.0  1.0             1.0            0.0  8.0  170.000000   \n",
              "738        1.0  2.0             1.0            0.0  2.0  170.000000   \n",
              "739        1.0  1.0             0.0            0.0  1.0  175.000000   \n",
              "\n",
              "     Body mass index  Absenteeism time in hours  \n",
              "0          30.000000                        4.0  \n",
              "1          30.808145                        0.0  \n",
              "2          31.000000                        2.0  \n",
              "3          24.000000                        4.0  \n",
              "4          30.000000                        2.0  \n",
              "..               ...                        ...  \n",
              "735        30.000000                        8.0  \n",
              "736        29.000000                        4.0  \n",
              "737        34.000000                        0.0  \n",
              "738        35.000000                        0.0  \n",
              "739        25.000000                        0.0  \n",
              "\n",
              "[740 rows x 20 columns]"
            ],
            "text/html": [
              "\n",
              "  <div id=\"df-ec21239b-8144-48d7-a24c-6515cf428051\">\n",
              "    <div class=\"colab-df-container\">\n",
              "      <div>\n",
              "<style scoped>\n",
              "    .dataframe tbody tr th:only-of-type {\n",
              "        vertical-align: middle;\n",
              "    }\n",
              "\n",
              "    .dataframe tbody tr th {\n",
              "        vertical-align: top;\n",
              "    }\n",
              "\n",
              "    .dataframe thead th {\n",
              "        text-align: right;\n",
              "    }\n",
              "</style>\n",
              "<table border=\"1\" class=\"dataframe\">\n",
              "  <thead>\n",
              "    <tr style=\"text-align: right;\">\n",
              "      <th></th>\n",
              "      <th>ID</th>\n",
              "      <th>Reason for absence</th>\n",
              "      <th>Month of absence</th>\n",
              "      <th>Day of the week</th>\n",
              "      <th>Seasons</th>\n",
              "      <th>Transportation expense</th>\n",
              "      <th>Distance from Residence to Work</th>\n",
              "      <th>Service time</th>\n",
              "      <th>Age</th>\n",
              "      <th>Work load Average/day</th>\n",
              "      <th>Hit target</th>\n",
              "      <th>Disciplinary failure</th>\n",
              "      <th>Education</th>\n",
              "      <th>Son</th>\n",
              "      <th>Social drinker</th>\n",
              "      <th>Social smoker</th>\n",
              "      <th>Pet</th>\n",
              "      <th>Height</th>\n",
              "      <th>Body mass index</th>\n",
              "      <th>Absenteeism time in hours</th>\n",
              "    </tr>\n",
              "  </thead>\n",
              "  <tbody>\n",
              "    <tr>\n",
              "      <th>0</th>\n",
              "      <td>11.0</td>\n",
              "      <td>26.0</td>\n",
              "      <td>7.0</td>\n",
              "      <td>3.0</td>\n",
              "      <td>1.0</td>\n",
              "      <td>289.0</td>\n",
              "      <td>36.0</td>\n",
              "      <td>13.0</td>\n",
              "      <td>33.0</td>\n",
              "      <td>239554.0</td>\n",
              "      <td>97.0</td>\n",
              "      <td>0.0</td>\n",
              "      <td>1.0</td>\n",
              "      <td>2.0</td>\n",
              "      <td>1.0</td>\n",
              "      <td>0.0</td>\n",
              "      <td>1.0</td>\n",
              "      <td>172.000000</td>\n",
              "      <td>30.000000</td>\n",
              "      <td>4.0</td>\n",
              "    </tr>\n",
              "    <tr>\n",
              "      <th>1</th>\n",
              "      <td>36.0</td>\n",
              "      <td>20.0</td>\n",
              "      <td>7.0</td>\n",
              "      <td>3.0</td>\n",
              "      <td>1.0</td>\n",
              "      <td>118.0</td>\n",
              "      <td>13.0</td>\n",
              "      <td>18.0</td>\n",
              "      <td>50.0</td>\n",
              "      <td>239554.0</td>\n",
              "      <td>97.0</td>\n",
              "      <td>1.0</td>\n",
              "      <td>1.0</td>\n",
              "      <td>1.0</td>\n",
              "      <td>1.0</td>\n",
              "      <td>0.0</td>\n",
              "      <td>0.0</td>\n",
              "      <td>170.000004</td>\n",
              "      <td>30.808145</td>\n",
              "      <td>0.0</td>\n",
              "    </tr>\n",
              "    <tr>\n",
              "      <th>2</th>\n",
              "      <td>3.0</td>\n",
              "      <td>23.0</td>\n",
              "      <td>7.0</td>\n",
              "      <td>4.0</td>\n",
              "      <td>1.0</td>\n",
              "      <td>179.0</td>\n",
              "      <td>51.0</td>\n",
              "      <td>18.0</td>\n",
              "      <td>38.0</td>\n",
              "      <td>239554.0</td>\n",
              "      <td>97.0</td>\n",
              "      <td>0.0</td>\n",
              "      <td>1.0</td>\n",
              "      <td>0.0</td>\n",
              "      <td>1.0</td>\n",
              "      <td>0.0</td>\n",
              "      <td>0.0</td>\n",
              "      <td>170.000000</td>\n",
              "      <td>31.000000</td>\n",
              "      <td>2.0</td>\n",
              "    </tr>\n",
              "    <tr>\n",
              "      <th>3</th>\n",
              "      <td>7.0</td>\n",
              "      <td>7.0</td>\n",
              "      <td>7.0</td>\n",
              "      <td>5.0</td>\n",
              "      <td>1.0</td>\n",
              "      <td>279.0</td>\n",
              "      <td>5.0</td>\n",
              "      <td>14.0</td>\n",
              "      <td>39.0</td>\n",
              "      <td>239554.0</td>\n",
              "      <td>97.0</td>\n",
              "      <td>0.0</td>\n",
              "      <td>1.0</td>\n",
              "      <td>2.0</td>\n",
              "      <td>1.0</td>\n",
              "      <td>1.0</td>\n",
              "      <td>0.0</td>\n",
              "      <td>168.000000</td>\n",
              "      <td>24.000000</td>\n",
              "      <td>4.0</td>\n",
              "    </tr>\n",
              "    <tr>\n",
              "      <th>4</th>\n",
              "      <td>11.0</td>\n",
              "      <td>23.0</td>\n",
              "      <td>7.0</td>\n",
              "      <td>5.0</td>\n",
              "      <td>1.0</td>\n",
              "      <td>289.0</td>\n",
              "      <td>36.0</td>\n",
              "      <td>13.0</td>\n",
              "      <td>33.0</td>\n",
              "      <td>239554.0</td>\n",
              "      <td>97.0</td>\n",
              "      <td>0.0</td>\n",
              "      <td>1.0</td>\n",
              "      <td>2.0</td>\n",
              "      <td>1.0</td>\n",
              "      <td>0.0</td>\n",
              "      <td>1.0</td>\n",
              "      <td>172.000000</td>\n",
              "      <td>30.000000</td>\n",
              "      <td>2.0</td>\n",
              "    </tr>\n",
              "    <tr>\n",
              "      <th>...</th>\n",
              "      <td>...</td>\n",
              "      <td>...</td>\n",
              "      <td>...</td>\n",
              "      <td>...</td>\n",
              "      <td>...</td>\n",
              "      <td>...</td>\n",
              "      <td>...</td>\n",
              "      <td>...</td>\n",
              "      <td>...</td>\n",
              "      <td>...</td>\n",
              "      <td>...</td>\n",
              "      <td>...</td>\n",
              "      <td>...</td>\n",
              "      <td>...</td>\n",
              "      <td>...</td>\n",
              "      <td>...</td>\n",
              "      <td>...</td>\n",
              "      <td>...</td>\n",
              "      <td>...</td>\n",
              "      <td>...</td>\n",
              "    </tr>\n",
              "    <tr>\n",
              "      <th>735</th>\n",
              "      <td>11.0</td>\n",
              "      <td>14.0</td>\n",
              "      <td>7.0</td>\n",
              "      <td>3.0</td>\n",
              "      <td>1.0</td>\n",
              "      <td>289.0</td>\n",
              "      <td>36.0</td>\n",
              "      <td>13.0</td>\n",
              "      <td>33.0</td>\n",
              "      <td>264604.0</td>\n",
              "      <td>93.0</td>\n",
              "      <td>0.0</td>\n",
              "      <td>1.0</td>\n",
              "      <td>2.0</td>\n",
              "      <td>1.0</td>\n",
              "      <td>0.0</td>\n",
              "      <td>1.0</td>\n",
              "      <td>172.000000</td>\n",
              "      <td>30.000000</td>\n",
              "      <td>8.0</td>\n",
              "    </tr>\n",
              "    <tr>\n",
              "      <th>736</th>\n",
              "      <td>1.0</td>\n",
              "      <td>11.0</td>\n",
              "      <td>7.0</td>\n",
              "      <td>3.0</td>\n",
              "      <td>1.0</td>\n",
              "      <td>235.0</td>\n",
              "      <td>11.0</td>\n",
              "      <td>14.0</td>\n",
              "      <td>37.0</td>\n",
              "      <td>264604.0</td>\n",
              "      <td>93.0</td>\n",
              "      <td>0.0</td>\n",
              "      <td>3.0</td>\n",
              "      <td>1.0</td>\n",
              "      <td>0.0</td>\n",
              "      <td>0.0</td>\n",
              "      <td>1.0</td>\n",
              "      <td>172.000000</td>\n",
              "      <td>29.000000</td>\n",
              "      <td>4.0</td>\n",
              "    </tr>\n",
              "    <tr>\n",
              "      <th>737</th>\n",
              "      <td>4.0</td>\n",
              "      <td>20.0</td>\n",
              "      <td>6.0</td>\n",
              "      <td>3.0</td>\n",
              "      <td>1.0</td>\n",
              "      <td>118.0</td>\n",
              "      <td>14.0</td>\n",
              "      <td>13.0</td>\n",
              "      <td>40.0</td>\n",
              "      <td>271219.0</td>\n",
              "      <td>95.0</td>\n",
              "      <td>0.0</td>\n",
              "      <td>1.0</td>\n",
              "      <td>1.0</td>\n",
              "      <td>1.0</td>\n",
              "      <td>0.0</td>\n",
              "      <td>8.0</td>\n",
              "      <td>170.000000</td>\n",
              "      <td>34.000000</td>\n",
              "      <td>0.0</td>\n",
              "    </tr>\n",
              "    <tr>\n",
              "      <th>738</th>\n",
              "      <td>8.0</td>\n",
              "      <td>20.0</td>\n",
              "      <td>6.0</td>\n",
              "      <td>4.0</td>\n",
              "      <td>2.0</td>\n",
              "      <td>231.0</td>\n",
              "      <td>35.0</td>\n",
              "      <td>14.0</td>\n",
              "      <td>39.0</td>\n",
              "      <td>271219.0</td>\n",
              "      <td>95.0</td>\n",
              "      <td>0.0</td>\n",
              "      <td>1.0</td>\n",
              "      <td>2.0</td>\n",
              "      <td>1.0</td>\n",
              "      <td>0.0</td>\n",
              "      <td>2.0</td>\n",
              "      <td>170.000000</td>\n",
              "      <td>35.000000</td>\n",
              "      <td>0.0</td>\n",
              "    </tr>\n",
              "    <tr>\n",
              "      <th>739</th>\n",
              "      <td>35.0</td>\n",
              "      <td>20.0</td>\n",
              "      <td>2.0</td>\n",
              "      <td>6.0</td>\n",
              "      <td>3.0</td>\n",
              "      <td>179.0</td>\n",
              "      <td>45.0</td>\n",
              "      <td>14.0</td>\n",
              "      <td>53.0</td>\n",
              "      <td>271219.0</td>\n",
              "      <td>95.0</td>\n",
              "      <td>0.0</td>\n",
              "      <td>1.0</td>\n",
              "      <td>1.0</td>\n",
              "      <td>0.0</td>\n",
              "      <td>0.0</td>\n",
              "      <td>1.0</td>\n",
              "      <td>175.000000</td>\n",
              "      <td>25.000000</td>\n",
              "      <td>0.0</td>\n",
              "    </tr>\n",
              "  </tbody>\n",
              "</table>\n",
              "<p>740 rows × 20 columns</p>\n",
              "</div>\n",
              "      <button class=\"colab-df-convert\" onclick=\"convertToInteractive('df-ec21239b-8144-48d7-a24c-6515cf428051')\"\n",
              "              title=\"Convert this dataframe to an interactive table.\"\n",
              "              style=\"display:none;\">\n",
              "        \n",
              "  <svg xmlns=\"http://www.w3.org/2000/svg\" height=\"24px\"viewBox=\"0 0 24 24\"\n",
              "       width=\"24px\">\n",
              "    <path d=\"M0 0h24v24H0V0z\" fill=\"none\"/>\n",
              "    <path d=\"M18.56 5.44l.94 2.06.94-2.06 2.06-.94-2.06-.94-.94-2.06-.94 2.06-2.06.94zm-11 1L8.5 8.5l.94-2.06 2.06-.94-2.06-.94L8.5 2.5l-.94 2.06-2.06.94zm10 10l.94 2.06.94-2.06 2.06-.94-2.06-.94-.94-2.06-.94 2.06-2.06.94z\"/><path d=\"M17.41 7.96l-1.37-1.37c-.4-.4-.92-.59-1.43-.59-.52 0-1.04.2-1.43.59L10.3 9.45l-7.72 7.72c-.78.78-.78 2.05 0 2.83L4 21.41c.39.39.9.59 1.41.59.51 0 1.02-.2 1.41-.59l7.78-7.78 2.81-2.81c.8-.78.8-2.07 0-2.86zM5.41 20L4 18.59l7.72-7.72 1.47 1.35L5.41 20z\"/>\n",
              "  </svg>\n",
              "      </button>\n",
              "      \n",
              "  <style>\n",
              "    .colab-df-container {\n",
              "      display:flex;\n",
              "      flex-wrap:wrap;\n",
              "      gap: 12px;\n",
              "    }\n",
              "\n",
              "    .colab-df-convert {\n",
              "      background-color: #E8F0FE;\n",
              "      border: none;\n",
              "      border-radius: 50%;\n",
              "      cursor: pointer;\n",
              "      display: none;\n",
              "      fill: #1967D2;\n",
              "      height: 32px;\n",
              "      padding: 0 0 0 0;\n",
              "      width: 32px;\n",
              "    }\n",
              "\n",
              "    .colab-df-convert:hover {\n",
              "      background-color: #E2EBFA;\n",
              "      box-shadow: 0px 1px 2px rgba(60, 64, 67, 0.3), 0px 1px 3px 1px rgba(60, 64, 67, 0.15);\n",
              "      fill: #174EA6;\n",
              "    }\n",
              "\n",
              "    [theme=dark] .colab-df-convert {\n",
              "      background-color: #3B4455;\n",
              "      fill: #D2E3FC;\n",
              "    }\n",
              "\n",
              "    [theme=dark] .colab-df-convert:hover {\n",
              "      background-color: #434B5C;\n",
              "      box-shadow: 0px 1px 3px 1px rgba(0, 0, 0, 0.15);\n",
              "      filter: drop-shadow(0px 1px 2px rgba(0, 0, 0, 0.3));\n",
              "      fill: #FFFFFF;\n",
              "    }\n",
              "  </style>\n",
              "\n",
              "      <script>\n",
              "        const buttonEl =\n",
              "          document.querySelector('#df-ec21239b-8144-48d7-a24c-6515cf428051 button.colab-df-convert');\n",
              "        buttonEl.style.display =\n",
              "          google.colab.kernel.accessAllowed ? 'block' : 'none';\n",
              "\n",
              "        async function convertToInteractive(key) {\n",
              "          const element = document.querySelector('#df-ec21239b-8144-48d7-a24c-6515cf428051');\n",
              "          const dataTable =\n",
              "            await google.colab.kernel.invokeFunction('convertToInteractive',\n",
              "                                                     [key], {});\n",
              "          if (!dataTable) return;\n",
              "\n",
              "          const docLinkHtml = 'Like what you see? Visit the ' +\n",
              "            '<a target=\"_blank\" href=https://colab.research.google.com/notebooks/data_table.ipynb>data table notebook</a>'\n",
              "            + ' to learn more about interactive tables.';\n",
              "          element.innerHTML = '';\n",
              "          dataTable['output_type'] = 'display_data';\n",
              "          await google.colab.output.renderOutput(dataTable, element);\n",
              "          const docLink = document.createElement('div');\n",
              "          docLink.innerHTML = docLinkHtml;\n",
              "          element.appendChild(docLink);\n",
              "        }\n",
              "      </script>\n",
              "    </div>\n",
              "  </div>\n",
              "  "
            ]
          },
          "metadata": {},
          "execution_count": 50
        }
      ]
    },
    {
      "cell_type": "code",
      "source": [
        "clean_data.shape"
      ],
      "metadata": {
        "colab": {
          "base_uri": "https://localhost:8080/"
        },
        "id": "-o6EuBPwN3pG",
        "outputId": "a7d411ff-7b41-4abe-9618-3c3dd716116c"
      },
      "execution_count": null,
      "outputs": [
        {
          "output_type": "execute_result",
          "data": {
            "text/plain": [
              "(740, 20)"
            ]
          },
          "metadata": {},
          "execution_count": 51
        }
      ]
    },
    {
      "cell_type": "code",
      "source": [],
      "metadata": {
        "id": "Fah9DdPgN6mu"
      },
      "execution_count": null,
      "outputs": []
    },
    {
      "cell_type": "markdown",
      "source": [
        "Feature Scaling"
      ],
      "metadata": {
        "id": "xbCBYkwCN-rl"
      }
    },
    {
      "cell_type": "code",
      "source": [
        "#Normality check\n",
        "for i in continuous_vars:\n",
        "    if i == 'Absenteeism time in hours':\n",
        "        continue\n",
        "    sns.distplot(df[i],bins = 'auto')\n",
        "    plt.title(\"Checking Distribution for Variable \"+str(i))\n",
        "    plt.ylabel(\"Density\")\n",
        "    plt.show()"
      ],
      "metadata": {
        "colab": {
          "base_uri": "https://localhost:8080/",
          "height": 1000
        },
        "id": "ECtUZY-zN_HW",
        "outputId": "b7a38708-3d93-4476-e596-70153bb5bb3d"
      },
      "execution_count": null,
      "outputs": [
        {
          "output_type": "stream",
          "name": "stderr",
          "text": [
            "/usr/local/lib/python3.8/dist-packages/seaborn/distributions.py:2619: FutureWarning: `distplot` is a deprecated function and will be removed in a future version. Please adapt your code to use either `displot` (a figure-level function with similar flexibility) or `histplot` (an axes-level function for histograms).\n",
            "  warnings.warn(msg, FutureWarning)\n"
          ]
        },
        {
          "output_type": "display_data",
          "data": {
            "text/plain": [
              "<Figure size 432x288 with 1 Axes>"
            ],
            "image/png": "[encoded data removed]"
          },
          "metadata": {}
        },
        {
          "output_type": "stream",
          "name": "stderr",
          "text": [
            "/usr/local/lib/python3.8/dist-packages/seaborn/distributions.py:2619: FutureWarning: `distplot` is a deprecated function and will be removed in a future version. Please adapt your code to use either `displot` (a figure-level function with similar flexibility) or `histplot` (an axes-level function for histograms).\n",
            "  warnings.warn(msg, FutureWarning)\n"
          ]
        },
        {
          "output_type": "display_data",
          "data": {
            "text/plain": [
              "<Figure size 432x288 with 1 Axes>"
            ],
            "image/png": "[encoded data removed]"
          },
          "metadata": {}
        },
        {
          "output_type": "stream",
          "name": "stderr",
          "text": [
            "/usr/local/lib/python3.8/dist-packages/seaborn/distributions.py:2619: FutureWarning: `distplot` is a deprecated function and will be removed in a future version. Please adapt your code to use either `displot` (a figure-level function with similar flexibility) or `histplot` (an axes-level function for histograms).\n",
            "  warnings.warn(msg, FutureWarning)\n"
          ]
        },
        {
          "output_type": "display_data",
          "data": {
            "text/plain": [
              "<Figure size 432x288 with 1 Axes>"
            ],
            "image/png": "[encoded data removed]"
          },
          "metadata": {}
        },
        {
          "output_type": "stream",
          "name": "stderr",
          "text": [
            "/usr/local/lib/python3.8/dist-packages/seaborn/distributions.py:2619: FutureWarning: `distplot` is a deprecated function and will be removed in a future version. Please adapt your code to use either `displot` (a figure-level function with similar flexibility) or `histplot` (an axes-level function for histograms).\n",
            "  warnings.warn(msg, FutureWarning)\n"
          ]
        },
        {
          "output_type": "display_data",
          "data": {
            "text/plain": [
              "<Figure size 432x288 with 1 Axes>"
            ],
            "image/png": "[encoded data removed]"
          },
          "metadata": {}
        },
        {
          "output_type": "stream",
          "name": "stderr",
          "text": [
            "/usr/local/lib/python3.8/dist-packages/seaborn/distributions.py:2619: FutureWarning: `distplot` is a deprecated function and will be removed in a future version. Please adapt your code to use either `displot` (a figure-level function with similar flexibility) or `histplot` (an axes-level function for histograms).\n",
            "  warnings.warn(msg, FutureWarning)\n"
          ]
        },
        {
          "output_type": "display_data",
          "data": {
            "text/plain": [
              "<Figure size 432x288 with 1 Axes>"
            ],
            "image/png": "[encoded data removed]"
          },
          "metadata": {}
        },
        {
          "output_type": "stream",
          "name": "stderr",
          "text": [
            "/usr/local/lib/python3.8/dist-packages/seaborn/distributions.py:2619: FutureWarning: `distplot` is a deprecated function and will be removed in a future version. Please adapt your code to use either `displot` (a figure-level function with similar flexibility) or `histplot` (an axes-level function for histograms).\n",
            "  warnings.warn(msg, FutureWarning)\n"
          ]
        },
        {
          "output_type": "display_data",
          "data": {
            "text/plain": [
              "<Figure size 432x288 with 1 Axes>"
            ],
            "image/png": "[encoded data removed]"
          },
          "metadata": {}
        },
        {
          "output_type": "stream",
          "name": "stderr",
          "text": [
            "/usr/local/lib/python3.8/dist-packages/seaborn/distributions.py:2619: FutureWarning: `distplot` is a deprecated function and will be removed in a future version. Please adapt your code to use either `displot` (a figure-level function with similar flexibility) or `histplot` (an axes-level function for histograms).\n",
            "  warnings.warn(msg, FutureWarning)\n"
          ]
        },
        {
          "output_type": "display_data",
          "data": {
            "text/plain": [
              "<Figure size 432x288 with 1 Axes>"
            ],
            "image/png": "[encoded data removed]"
          },
          "metadata": {}
        },
        {
          "output_type": "stream",
          "name": "stderr",
          "text": [
            "/usr/local/lib/python3.8/dist-packages/seaborn/distributions.py:2619: FutureWarning: `distplot` is a deprecated function and will be removed in a future version. Please adapt your code to use either `displot` (a figure-level function with similar flexibility) or `histplot` (an axes-level function for histograms).\n",
            "  warnings.warn(msg, FutureWarning)\n"
          ]
        },
        {
          "output_type": "display_data",
          "data": {
            "text/plain": [
              "<Figure size 432x288 with 1 Axes>"
            ],
            "image/png": "[encoded data removed]"
          },
          "metadata": {}
        }
      ]
    },
    {
      "cell_type": "code",
      "source": [
        "#Normalization of continuous variables\n",
        "for i in continuous_vars:\n",
        "    if i == 'Absenteeism time in hours':\n",
        "        continue\n",
        "    df[i] = (df[i] - df[i].min())/(df[i].max()-df[i].min())"
      ],
      "metadata": {
        "id": "nYi1S8SXOTo-"
      },
      "execution_count": null,
      "outputs": []
    },
    {
      "cell_type": "code",
      "source": [],
      "metadata": {
        "id": "Tb0woHruOeG2"
      },
      "execution_count": null,
      "outputs": []
    },
    {
      "cell_type": "markdown",
      "source": [
        "Machine Learning Models"
      ],
      "metadata": {
        "id": "ccf_bFZSOfvD"
      }
    },
    {
      "cell_type": "code",
      "source": [
        "#Create dummy variables of factor variables\n",
        "df = pd.get_dummies(data = df, columns = categorical_vars)\n",
        "\n",
        "# Copying dataframe\n",
        "df1 = df.copy()"
      ],
      "metadata": {
        "id": "OZjyZYCZOgau"
      },
      "execution_count": null,
      "outputs": []
    },
    {
      "cell_type": "code",
      "source": [
        "#Get number of rows and columns\n",
        "df.shape"
      ],
      "metadata": {
        "colab": {
          "base_uri": "https://localhost:8080/"
        },
        "id": "AoVZk08_Ojpe",
        "outputId": "a0b531e2-8c12-4faa-d5d0-81e44d8d8d01"
      },
      "execution_count": null,
      "outputs": [
        {
          "output_type": "execute_result",
          "data": {
            "text/plain": [
              "(740, 115)"
            ]
          },
          "metadata": {},
          "execution_count": 55
        }
      ]
    },
    {
      "cell_type": "code",
      "source": [
        "#Observe the first row\n",
        "df.head(1)"
      ],
      "metadata": {
        "colab": {
          "base_uri": "https://localhost:8080/",
          "height": 226
        },
        "id": "GeLGqZO-OmeP",
        "outputId": "921031ac-9aff-4028-f892-2d631ee917fa"
      },
      "execution_count": null,
      "outputs": [
        {
          "output_type": "execute_result",
          "data": {
            "text/plain": [
              "   Transportation expense  Distance from Residence to Work  Service time  \\\n",
              "0                0.657692                         0.659574      0.521739   \n",
              "\n",
              "        Age  Work load Average/day   Hit target  Height  Body mass index  \\\n",
              "0  0.230769                0.244925    0.769231     0.7         0.578947   \n",
              "\n",
              "   Absenteeism time in hours  ID_1.0  ...  Pet_1.0  Pet_2.0  Pet_4.0  Pet_5.0  \\\n",
              "0                        4.0       0  ...        1        0        0        0   \n",
              "\n",
              "   Pet_8.0  Son_0.0  Son_1.0  Son_2.0  Son_3.0  Son_4.0  \n",
              "0        0        0        0        1        0        0  \n",
              "\n",
              "[1 rows x 115 columns]"
            ],
            "text/html": [
              "\n",
              "  <div id=\"df-96db20e6-c92d-4724-84ba-4a88b499c78f\">\n",
              "    <div class=\"colab-df-container\">\n",
              "      <div>\n",
              "<style scoped>\n",
              "    .dataframe tbody tr th:only-of-type {\n",
              "        vertical-align: middle;\n",
              "    }\n",
              "\n",
              "    .dataframe tbody tr th {\n",
              "        vertical-align: top;\n",
              "    }\n",
              "\n",
              "    .dataframe thead th {\n",
              "        text-align: right;\n",
              "    }\n",
              "</style>\n",
              "<table border=\"1\" class=\"dataframe\">\n",
              "  <thead>\n",
              "    <tr style=\"text-align: right;\">\n",
              "      <th></th>\n",
              "      <th>Transportation expense</th>\n",
              "      <th>Distance from Residence to Work</th>\n",
              "      <th>Service time</th>\n",
              "      <th>Age</th>\n",
              "      <th>Work load Average/day</th>\n",
              "      <th>Hit target</th>\n",
              "      <th>Height</th>\n",
              "      <th>Body mass index</th>\n",
              "      <th>Absenteeism time in hours</th>\n",
              "      <th>ID_1.0</th>\n",
              "      <th>...</th>\n",
              "      <th>Pet_1.0</th>\n",
              "      <th>Pet_2.0</th>\n",
              "      <th>Pet_4.0</th>\n",
              "      <th>Pet_5.0</th>\n",
              "      <th>Pet_8.0</th>\n",
              "      <th>Son_0.0</th>\n",
              "      <th>Son_1.0</th>\n",
              "      <th>Son_2.0</th>\n",
              "      <th>Son_3.0</th>\n",
              "      <th>Son_4.0</th>\n",
              "    </tr>\n",
              "  </thead>\n",
              "  <tbody>\n",
              "    <tr>\n",
              "      <th>0</th>\n",
              "      <td>0.657692</td>\n",
              "      <td>0.659574</td>\n",
              "      <td>0.521739</td>\n",
              "      <td>0.230769</td>\n",
              "      <td>0.244925</td>\n",
              "      <td>0.769231</td>\n",
              "      <td>0.7</td>\n",
              "      <td>0.578947</td>\n",
              "      <td>4.0</td>\n",
              "      <td>0</td>\n",
              "      <td>...</td>\n",
              "      <td>1</td>\n",
              "      <td>0</td>\n",
              "      <td>0</td>\n",
              "      <td>0</td>\n",
              "      <td>0</td>\n",
              "      <td>0</td>\n",
              "      <td>0</td>\n",
              "      <td>1</td>\n",
              "      <td>0</td>\n",
              "      <td>0</td>\n",
              "    </tr>\n",
              "  </tbody>\n",
              "</table>\n",
              "<p>1 rows × 115 columns</p>\n",
              "</div>\n",
              "      <button class=\"colab-df-convert\" onclick=\"convertToInteractive('df-96db20e6-c92d-4724-84ba-4a88b499c78f')\"\n",
              "              title=\"Convert this dataframe to an interactive table.\"\n",
              "              style=\"display:none;\">\n",
              "        \n",
              "  <svg xmlns=\"http://www.w3.org/2000/svg\" height=\"24px\"viewBox=\"0 0 24 24\"\n",
              "       width=\"24px\">\n",
              "    <path d=\"M0 0h24v24H0V0z\" fill=\"none\"/>\n",
              "    <path d=\"M18.56 5.44l.94 2.06.94-2.06 2.06-.94-2.06-.94-.94-2.06-.94 2.06-2.06.94zm-11 1L8.5 8.5l.94-2.06 2.06-.94-2.06-.94L8.5 2.5l-.94 2.06-2.06.94zm10 10l.94 2.06.94-2.06 2.06-.94-2.06-.94-.94-2.06-.94 2.06-2.06.94z\"/><path d=\"M17.41 7.96l-1.37-1.37c-.4-.4-.92-.59-1.43-.59-.52 0-1.04.2-1.43.59L10.3 9.45l-7.72 7.72c-.78.78-.78 2.05 0 2.83L4 21.41c.39.39.9.59 1.41.59.51 0 1.02-.2 1.41-.59l7.78-7.78 2.81-2.81c.8-.78.8-2.07 0-2.86zM5.41 20L4 18.59l7.72-7.72 1.47 1.35L5.41 20z\"/>\n",
              "  </svg>\n",
              "      </button>\n",
              "      \n",
              "  <style>\n",
              "    .colab-df-container {\n",
              "      display:flex;\n",
              "      flex-wrap:wrap;\n",
              "      gap: 12px;\n",
              "    }\n",
              "\n",
              "    .colab-df-convert {\n",
              "      background-color: #E8F0FE;\n",
              "      border: none;\n",
              "      border-radius: 50%;\n",
              "      cursor: pointer;\n",
              "      display: none;\n",
              "      fill: #1967D2;\n",
              "      height: 32px;\n",
              "      padding: 0 0 0 0;\n",
              "      width: 32px;\n",
              "    }\n",
              "\n",
              "    .colab-df-convert:hover {\n",
              "      background-color: #E2EBFA;\n",
              "      box-shadow: 0px 1px 2px rgba(60, 64, 67, 0.3), 0px 1px 3px 1px rgba(60, 64, 67, 0.15);\n",
              "      fill: #174EA6;\n",
              "    }\n",
              "\n",
              "    [theme=dark] .colab-df-convert {\n",
              "      background-color: #3B4455;\n",
              "      fill: #D2E3FC;\n",
              "    }\n",
              "\n",
              "    [theme=dark] .colab-df-convert:hover {\n",
              "      background-color: #434B5C;\n",
              "      box-shadow: 0px 1px 3px 1px rgba(0, 0, 0, 0.15);\n",
              "      filter: drop-shadow(0px 1px 2px rgba(0, 0, 0, 0.3));\n",
              "      fill: #FFFFFF;\n",
              "    }\n",
              "  </style>\n",
              "\n",
              "      <script>\n",
              "        const buttonEl =\n",
              "          document.querySelector('#df-96db20e6-c92d-4724-84ba-4a88b499c78f button.colab-df-convert');\n",
              "        buttonEl.style.display =\n",
              "          google.colab.kernel.accessAllowed ? 'block' : 'none';\n",
              "\n",
              "        async function convertToInteractive(key) {\n",
              "          const element = document.querySelector('#df-96db20e6-c92d-4724-84ba-4a88b499c78f');\n",
              "          const dataTable =\n",
              "            await google.colab.kernel.invokeFunction('convertToInteractive',\n",
              "                                                     [key], {});\n",
              "          if (!dataTable) return;\n",
              "\n",
              "          const docLinkHtml = 'Like what you see? Visit the ' +\n",
              "            '<a target=\"_blank\" href=https://colab.research.google.com/notebooks/data_table.ipynb>data table notebook</a>'\n",
              "            + ' to learn more about interactive tables.';\n",
              "          element.innerHTML = '';\n",
              "          dataTable['output_type'] = 'display_data';\n",
              "          await google.colab.output.renderOutput(dataTable, element);\n",
              "          const docLink = document.createElement('div');\n",
              "          docLink.innerHTML = docLinkHtml;\n",
              "          element.appendChild(docLink);\n",
              "        }\n",
              "      </script>\n",
              "    </div>\n",
              "  </div>\n",
              "  "
            ]
          },
          "metadata": {},
          "execution_count": 56
        }
      ]
    },
    {
      "cell_type": "code",
      "source": [
        "#Splitting data into train and test data\n",
        "from sklearn.model_selection import train_test_split\n",
        "X_train, X_test, y_train, y_test = train_test_split( df.iloc[:, df.columns != 'Absenteeism time in hours'], df.iloc[:, 8], test_size = 0.20, random_state = 1)"
      ],
      "metadata": {
        "id": "dKeE5UfhOoRO"
      },
      "execution_count": null,
      "outputs": []
    },
    {
      "cell_type": "code",
      "source": [],
      "metadata": {
        "id": "YhenFMY7PGWH"
      },
      "execution_count": null,
      "outputs": []
    },
    {
      "cell_type": "markdown",
      "source": [
        "Decision Tree\n",
        "RMSE: 4.056\n",
        "R-squared: -0.4481"
      ],
      "metadata": {
        "id": "h4jdxXVYPKpR"
      }
    },
    {
      "cell_type": "code",
      "source": [
        "\n",
        "# Importing libraries for Decision Tree \n",
        "from sklearn.tree import DecisionTreeRegressor\n",
        "\n",
        "#Build decsion tree using DecisionTreeRegressor\n",
        "dt_model = DecisionTreeRegressor(random_state = 1).fit(X_train,y_train)\n",
        "\n",
        "#Perdict for test cases\n",
        "dt_predictions = dt_model.predict(X_test)\n",
        "\n",
        "#Create data frame for actual and predicted values\n",
        "df_dt = pd.DataFrame({'actual': y_test, 'pred': dt_predictions})\n",
        "print(df_dt.head())\n",
        "\n",
        "#Define function to calculate RMSE\n",
        "def RMSE(y_actual,y_predicted):\n",
        "    rmse = np.sqrt(mean_squared_error(y_actual,y_predicted))\n",
        "    return rmse\n",
        "\n",
        "#Calculate RMSE and R-squared value\n",
        "print(\"Root Mean Squared Error: \"+str(RMSE(y_test, dt_predictions)))\n",
        "print(\"R^2 Score(coefficient of determination) = \"+str(r2_score(y_test, dt_predictions)))"
      ],
      "metadata": {
        "colab": {
          "base_uri": "https://localhost:8080/"
        },
        "id": "beFAGjDtPK_F",
        "outputId": "cb1ea12f-a8b6-48ad-d736-9f2ca1ffc896"
      },
      "execution_count": null,
      "outputs": [
        {
          "output_type": "stream",
          "name": "stdout",
          "text": [
            "     actual      pred\n",
            "681     8.0  8.000000\n",
            "257     2.0  3.871452\n",
            "527     8.0  8.000000\n",
            "637     8.0  2.000000\n",
            "429     4.0  1.000000\n",
            "Root Mean Squared Error: 3.831627165321648\n",
            "R^2 Score(coefficient of determination) = -0.2918373699513601\n"
          ]
        }
      ]
    },
    {
      "cell_type": "markdown",
      "source": [
        "Random Forest\n",
        "RMSE: 2.7114\n",
        "R-squared: 0.353"
      ],
      "metadata": {
        "id": "ZyI6vZVRTA65"
      }
    },
    {
      "cell_type": "code",
      "source": [
        "# Importing libraries for Random Forest\n",
        "from sklearn.ensemble import RandomForestRegressor\n",
        "\n",
        "#Build random forest using RandomForestRegressor\n",
        "rf_model = RandomForestRegressor(n_estimators = 500, random_state = 1).fit(X_train,y_train)\n",
        "\n",
        "#Perdict for test cases\n",
        "rf_predictions = rf_model.predict(X_test)\n",
        "\n",
        "#Create data frame for actual and predicted values\n",
        "df_rf = pd.DataFrame({'actual': y_test, 'pred': rf_predictions})\n",
        "print(df_rf.head())\n",
        "\n",
        "#Calculate RMSE and R-squared value\n",
        "print(\"Root Mean Squared Error: \"+str(RMSE(y_test, rf_predictions)))\n",
        "print(\"R^2 Score(coefficient of determination) = \"+str(r2_score(y_test, rf_predictions)))"
      ],
      "metadata": {
        "colab": {
          "base_uri": "https://localhost:8080/"
        },
        "id": "aAbN8p40TCUu",
        "outputId": "84aab4ce-18f0-44a6-b92e-22f11ffe1932"
      },
      "execution_count": null,
      "outputs": [
        {
          "output_type": "stream",
          "name": "stdout",
          "text": [
            "     actual      pred\n",
            "681     8.0  4.811646\n",
            "257     2.0  3.777573\n",
            "527     8.0  5.634267\n",
            "637     8.0  3.366537\n",
            "429     4.0  3.201040\n",
            "Root Mean Squared Error: 2.716541983238569\n",
            "R^2 Score(coefficient of determination) = 0.35065694659935964\n"
          ]
        }
      ]
    },
    {
      "cell_type": "code",
      "source": [],
      "metadata": {
        "id": "Y3AeN_9gTNam"
      },
      "execution_count": null,
      "outputs": []
    },
    {
      "cell_type": "markdown",
      "source": [
        "Linear Regression\n",
        "RMSE: 40145e+8\n",
        "R-squared: -1.4181e+24"
      ],
      "metadata": {
        "id": "Oig9ni4aTXwS"
      }
    },
    {
      "cell_type": "code",
      "source": [
        "# Importing libraries for Linear Regression\n",
        "from sklearn.linear_model import LinearRegression\n",
        "\n",
        "#Train the model\n",
        "lr_model = LinearRegression().fit(X_train , y_train)\n",
        "\n",
        "#Perdict for test cases\n",
        "lr_predictions = lr_model.predict(X_test)\n",
        "\n",
        "#Create data frame for actual and predicted values\n",
        "df_lr = pd.DataFrame({'actual': y_test, 'pred': lr_predictions})\n",
        "print(df_lr.head())\n",
        "\n",
        "#Calculate RMSE and R-squared value\n",
        "print(\"Root Mean Squared Error: \"+str(RMSE(y_test, lr_predictions)))\n",
        "print(\"R^2 Score(coefficient of determination) = \"+str(r2_score(y_test, lr_predictions)))"
      ],
      "metadata": {
        "colab": {
          "base_uri": "https://localhost:8080/"
        },
        "id": "2IgYZtP9TYU0",
        "outputId": "f9dd7cf8-53bd-475b-e402-10433fc07a3d"
      },
      "execution_count": null,
      "outputs": [
        {
          "output_type": "stream",
          "name": "stdout",
          "text": [
            "     actual      pred\n",
            "681     8.0  2.324219\n",
            "257     2.0  2.984375\n",
            "527     8.0  7.253906\n",
            "637     8.0  4.578125\n",
            "429     4.0  3.031250\n",
            "Root Mean Squared Error: 4708152322929.001\n",
            "R^2 Score(coefficient of determination) = -1.9504838851757904e+24\n"
          ]
        }
      ]
    },
    {
      "cell_type": "code",
      "source": [],
      "metadata": {
        "id": "Li3VVgNtTZ-O"
      },
      "execution_count": null,
      "outputs": []
    },
    {
      "cell_type": "markdown",
      "source": [
        "Dimension Reduction using PCA"
      ],
      "metadata": {
        "id": "Kya8JtROTgyf"
      }
    },
    {
      "cell_type": "code",
      "source": [
        "#Get the target variable\n",
        "target = df['Absenteeism time in hours']"
      ],
      "metadata": {
        "id": "5qM-qtk8ThK9"
      },
      "execution_count": null,
      "outputs": []
    },
    {
      "cell_type": "code",
      "source": [
        "#Get the number of rows and columns of data\n",
        "df.shape"
      ],
      "metadata": {
        "colab": {
          "base_uri": "https://localhost:8080/"
        },
        "id": "qNVU3LvlTjR1",
        "outputId": "6751dd05-f43b-4e43-fce5-2e6cbe505ac8"
      },
      "execution_count": null,
      "outputs": [
        {
          "output_type": "execute_result",
          "data": {
            "text/plain": [
              "(740, 115)"
            ]
          },
          "metadata": {},
          "execution_count": 62
        }
      ]
    },
    {
      "cell_type": "code",
      "source": [
        "#Import library for PCA\n",
        "from sklearn.decomposition import PCA\n",
        "\n",
        "#Converting data to numpy array\n",
        "X = df.values\n",
        "\n",
        "#Data has 116 variables so no of components of PCA = 115\n",
        "pca = PCA(n_components=115)\n",
        "pca.fit(X)\n",
        "\n",
        "#Proportion of variance explained\n",
        "var= pca.explained_variance_ratio_\n",
        "\n",
        "#Cumulative scree plot\n",
        "var1=np.cumsum(np.round(pca.explained_variance_ratio_, decimals=4)*100)\n",
        "\n",
        "#Draw the plot\n",
        "plt.plot(var1)\n",
        "plt.show()"
      ],
      "metadata": {
        "colab": {
          "base_uri": "https://localhost:8080/",
          "height": 265
        },
        "id": "ZwdChbA1Tkll",
        "outputId": "3f6f16df-a8f4-454b-97bc-419e998491d5"
      },
      "execution_count": null,
      "outputs": [
        {
          "output_type": "display_data",
          "data": {
            "text/plain": [
              "<Figure size 432x288 with 1 Axes>"
            ],
            "image/png": "[encoded data removed]"
          },
          "metadata": {}
        }
      ]
    },
    {
      "cell_type": "code",
      "source": [
        "#Selecting 45 components since it explains almost 95+ % data variance\n",
        "pca = PCA(n_components=45)\n",
        "\n",
        "#Fitting the selected components to the data\n",
        "pca.fit(X)\n",
        "\n",
        "#Splitting data into train and test data\n",
        "X_train, X_test, y_train, y_test = train_test_split(X,target, test_size=0.2, random_state = 1)"
      ],
      "metadata": {
        "id": "qulz7BwJTnpj"
      },
      "execution_count": null,
      "outputs": []
    },
    {
      "cell_type": "code",
      "source": [],
      "metadata": {
        "id": "lBio5TumUA7O"
      },
      "execution_count": null,
      "outputs": []
    },
    {
      "cell_type": "markdown",
      "source": [
        "Decision Tree\n",
        "\n",
        "RMSE: 0.0353\n",
        "\n",
        "R-squared: **0.9998**"
      ],
      "metadata": {
        "id": "SPy8aLwoUBf-"
      }
    },
    {
      "cell_type": "code",
      "source": [
        "#Build decsion tree using DecisionTreeRegressor\n",
        "dt_model = DecisionTreeRegressor(random_state = 1).fit(X_train,y_train)\n",
        "\n",
        "#Perdict for test cases\n",
        "dt_predictions = dt_model.predict(X_test)\n",
        "\n",
        "#Create data frame for actual and predicted values\n",
        "df_dt = pd.DataFrame({'actual': y_test, 'pred': dt_predictions})\n",
        "print(df_dt.head())\n",
        "\n",
        "#Calculate RMSE and R-squared value\n",
        "print(\"Root Mean Squared Error: \"+str(RMSE(y_test, dt_predictions)))\n",
        "print(\"R^2 Score(coefficient of determination) = \"+str(r2_score(y_test, dt_predictions)))"
      ],
      "metadata": {
        "colab": {
          "base_uri": "https://localhost:8080/"
        },
        "id": "nJLyV8a2UIT2",
        "outputId": "b5e62ea0-ba0d-4e54-b9f2-b7f990c06723"
      },
      "execution_count": null,
      "outputs": [
        {
          "output_type": "stream",
          "name": "stdout",
          "text": [
            "     actual  pred\n",
            "681     8.0   8.0\n",
            "257     2.0   2.0\n",
            "527     8.0   8.0\n",
            "637     8.0   8.0\n",
            "429     4.0   4.0\n",
            "Root Mean Squared Error: 0.04875027929767174\n",
            "R^2 Score(coefficient of determination) = 0.9997908799988486\n"
          ]
        }
      ]
    },
    {
      "cell_type": "code",
      "source": [],
      "metadata": {
        "id": "OT9adQbQULSm"
      },
      "execution_count": null,
      "outputs": []
    },
    {
      "cell_type": "markdown",
      "source": [
        "Random Forest\n",
        "\n",
        "RMSE: 0.04453\n",
        "bold text\n",
        "R-squared: 0.9998"
      ],
      "metadata": {
        "id": "DPZVcds3UX5k"
      }
    },
    {
      "cell_type": "code",
      "source": [
        "#Build random forest using RandomForestRegressor\n",
        "rf_model = RandomForestRegressor(n_estimators = 500, random_state = 1).fit(X_train,y_train)\n",
        "\n",
        "#Perdict for test cases\n",
        "rf_predictions = rf_model.predict(X_test)\n",
        "\n",
        "#Create data frame for actual and predicted values\n",
        "df_rf = pd.DataFrame({'actual': y_test, 'pred': rf_predictions})\n",
        "print(df_rf.head())\n",
        "\n",
        "#Calculate RMSE and R-squared value\n",
        "print(\"Root Mean Squared Error: \"+str(RMSE(y_test, rf_predictions)))\n",
        "print(\"R^2 Score(coefficient of determination) = \"+str(r2_score(y_test, rf_predictions)))"
      ],
      "metadata": {
        "colab": {
          "base_uri": "https://localhost:8080/"
        },
        "id": "g_pDICduUZL5",
        "outputId": "88563939-e136-48a4-ae74-4021263a00e1"
      },
      "execution_count": null,
      "outputs": [
        {
          "output_type": "stream",
          "name": "stdout",
          "text": [
            "     actual      pred\n",
            "681     8.0  8.000000\n",
            "257     2.0  1.999581\n",
            "527     8.0  8.000000\n",
            "637     8.0  8.000000\n",
            "429     4.0  4.001428\n",
            "Root Mean Squared Error: 0.04562134679454629\n",
            "R^2 Score(coefficient of determination) = 0.9998168623823864\n"
          ]
        }
      ]
    },
    {
      "cell_type": "code",
      "source": [],
      "metadata": {
        "id": "CqwDkF-WUdU1"
      },
      "execution_count": null,
      "outputs": []
    },
    {
      "cell_type": "markdown",
      "source": [
        "Linear Regression\n",
        "\n",
        "RMSE: 0.0013\n",
        "\n",
        "R-squared: 0.9999\n",
        "bold text"
      ],
      "metadata": {
        "id": "RsIDG_3JUgmD"
      }
    },
    {
      "cell_type": "code",
      "source": [
        "# Importing libraries for Linear Regression\n",
        "from sklearn.linear_model import LinearRegression\n",
        "\n",
        "#Train the model\n",
        "lr_model = LinearRegression().fit(X_train , y_train)\n",
        "\n",
        "#Perdict for test cases\n",
        "lr_predictions = lr_model.predict(X_test)\n",
        "\n",
        "#Create data frame for actual and predicted values\n",
        "df_lr = pd.DataFrame({'actual': y_test, 'pred': lr_predictions})\n",
        "print(df_lr.head())\n",
        "\n",
        "#Calculate RMSE and R-squared value\n",
        "print(\"Root Mean Squared Error: \"+str(RMSE(y_test, lr_predictions)))\n",
        "print(\"R^2 Score(coefficient of determination) = \"+str(r2_score(y_test, lr_predictions)))"
      ],
      "metadata": {
        "colab": {
          "base_uri": "https://localhost:8080/"
        },
        "id": "0rKcgjrpUjF5",
        "outputId": "30848e0b-8e49-4eb3-c95c-dbfbe50b1be2"
      },
      "execution_count": null,
      "outputs": [
        {
          "output_type": "stream",
          "name": "stdout",
          "text": [
            "     actual  pred\n",
            "681     8.0   8.0\n",
            "257     2.0   2.0\n",
            "527     8.0   8.0\n",
            "637     8.0   8.0\n",
            "429     4.0   4.0\n",
            "Root Mean Squared Error: 0.0003226983510013023\n",
            "R^2 Score(coefficient of determination) = 0.9999999908370599\n"
          ]
        }
      ]
    },
    {
      "cell_type": "code",
      "source": [],
      "metadata": {
        "id": "o_c6k4skCTly"
      },
      "execution_count": null,
      "outputs": []
    }
  ]
}